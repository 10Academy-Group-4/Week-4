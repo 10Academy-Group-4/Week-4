{
  "nbformat": 4,
  "nbformat_minor": 2,
  "metadata": {
    "colab": {
      "name": "modling_speech.ipynb",
      "provenance": []
    },
    "kernelspec": {
      "name": "python3",
      "display_name": "Python 3.8.5 64-bit ('base': conda)"
    },
    "language_info": {
      "name": "python",
      "version": "3.8.5",
      "mimetype": "text/x-python",
      "codemirror_mode": {
        "name": "ipython",
        "version": 3
      },
      "pygments_lexer": "ipython3",
      "nbconvert_exporter": "python",
      "file_extension": ".py"
    },
    "interpreter": {
      "hash": "cd8ac7ed5329ff1f59a8356dfddf06d159cf18414acbfd7b13d1d5cd1cbb5d7d"
    }
  },
  "cells": [
    {
      "cell_type": "code",
      "execution_count": 4,
      "source": [
        "import numpy as np\r\n",
        "import librosa\r\n",
        "import glob\r\n",
        "import os"
      ],
      "outputs": [],
      "metadata": {}
    },
    {
      "cell_type": "code",
      "execution_count": 8,
      "source": [
        "import pandas as pd\r\n",
        "import traceback\r\n",
        "import sys\r\n",
        "\r\n",
        "sys.path.append(os.path.abspath(os.path.join('../scripts')))\r\n",
        "from MetaCreate import MetaCreate\r\n",
        "from AudioManipulator import AudioManipulator"
      ],
      "outputs": [],
      "metadata": {
        "id": "tUP4ESQS1KjO"
      }
    },
    {
      "cell_type": "code",
      "execution_count": 9,
      "source": [
        "meta=MetaCreate()\r\n",
        "meta_data=meta.generate_meta_data()"
      ],
      "outputs": [
        {
          "output_type": "stream",
          "name": "stdout",
          "text": [
            "File ../data/train/text couldn't be found\n"
          ]
        }
      ],
      "metadata": {}
    },
    {
      "cell_type": "code",
      "execution_count": 11,
      "source": [
        "meta.meta_to_json('../artifacts/meta.json')"
      ],
      "outputs": [],
      "metadata": {}
    },
    {
      "cell_type": "code",
      "execution_count": 12,
      "source": [
        "\r\n",
        "import librosa.display"
      ],
      "outputs": [],
      "metadata": {}
    },
    {
      "cell_type": "code",
      "execution_count": 22,
      "source": [
        "path = (\"C:\\Users\\DELL\\Week-4\\data\\SWAHILI\\data\\train\\wav\\SWH-05-20101106\\SWH-05-20101106_16k-emission_swahili_05h30_-_06h00_tu_20101106_part2.wav\")"
      ],
      "outputs": [
        {
          "output_type": "error",
          "ename": "SyntaxError",
          "evalue": "(unicode error) 'unicodeescape' codec can't decode bytes in position 2-3: truncated \\UXXXXXXXX escape (<ipython-input-22-7ca874459251>, line 1)",
          "traceback": [
            "\u001b[1;36m  File \u001b[1;32m\"<ipython-input-22-7ca874459251>\"\u001b[1;36m, line \u001b[1;32m1\u001b[0m\n\u001b[1;33m    path = \"C:\\Users\\DELL\\Week-4\\data\\SWAHILI\\data\\train\\wav\\SWH-05-20101106\\SWH-05-20101106_16k-emission_swahili_05h30_-_06h00_tu_20101106_part2.wav\"\u001b[0m\n\u001b[1;37m           ^\u001b[0m\n\u001b[1;31mSyntaxError\u001b[0m\u001b[1;31m:\u001b[0m (unicode error) 'unicodeescape' codec can't decode bytes in position 2-3: truncated \\UXXXXXXXX escape\n"
          ]
        }
      ],
      "metadata": {}
    },
    {
      "cell_type": "code",
      "execution_count": 21,
      "source": [
        "#meta_data.iloc[1].path"
      ],
      "outputs": [],
      "metadata": {}
    },
    {
      "cell_type": "code",
      "execution_count": null,
      "source": [],
      "outputs": [],
      "metadata": {}
    }
  ]
}