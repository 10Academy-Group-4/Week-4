{
  "nbformat": 4,
  "nbformat_minor": 0,
  "metadata": {
    "colab": {
      "name": "meta_data.ipynb",
      "provenance": []
    },
    "kernelspec": {
      "name": "python3",
      "display_name": "Python 3"
    },
    "language_info": {
      "name": "python"
    }
  },
  "cells": [
    {
      "cell_type": "code",
      "metadata": {
        "id": "4bZ_oXzcDoMJ"
      },
      "source": [
        ""
      ],
      "execution_count": null,
      "outputs": []
    },
    {
      "cell_type": "code",
      "metadata": {
        "colab": {
          "base_uri": "https://localhost:8080/"
        },
        "id": "84-BV-acznIj",
        "outputId": "0ea998e5-7097-43a6-cd9b-9bcee3b4bc96"
      },
      "source": [
        "from google.colab import drive\n",
        "drive.mount('/content/drive')"
      ],
      "execution_count": 1,
      "outputs": [
        {
          "output_type": "stream",
          "text": [
            "Mounted at /content/drive\n"
          ],
          "name": "stdout"
        }
      ]
    },
    {
      "cell_type": "code",
      "metadata": {
        "id": "tUP4ESQS1KjO"
      },
      "source": [
        "#%cd gdrive/My Drive/week4/"
      ],
      "execution_count": 2,
      "outputs": []
    },
    {
      "cell_type": "code",
      "metadata": {
        "colab": {
          "base_uri": "https://localhost:8080/"
        },
        "id": "9bcw5iudztMs",
        "outputId": "e07c7415-8700-4feb-a0da-73cf69bd4235"
      },
      "source": [
        "! git clone https://github.com/SibitendaHarriet/ALFFA_PUBLIC.git"
      ],
      "execution_count": 3,
      "outputs": [
        {
          "output_type": "stream",
          "text": [
            "Cloning into 'ALFFA_PUBLIC'...\n",
            "remote: Enumerating objects: 66024, done.\u001b[K\n",
            "remote: Total 66024 (delta 0), reused 0 (delta 0), pack-reused 66024\u001b[K\n",
            "Receiving objects: 100% (66024/66024), 6.54 GiB | 16.34 MiB/s, done.\n",
            "Resolving deltas: 100% (12337/12337), done.\n",
            "Checking out files: 100% (56925/56925), done.\n"
          ],
          "name": "stdout"
        }
      ]
    },
    {
      "cell_type": "code",
      "metadata": {
        "colab": {
          "base_uri": "https://localhost:8080/"
        },
        "id": "JPHdlWlC0aie",
        "outputId": "cf4f6510-4aaa-4575-adfd-43c5b92e18ff"
      },
      "source": [
        "!git pull"
      ],
      "execution_count": 4,
      "outputs": [
        {
          "output_type": "stream",
          "text": [
            "fatal: not a git repository (or any of the parent directories): .git\n"
          ],
          "name": "stdout"
        }
      ]
    },
    {
      "cell_type": "code",
      "metadata": {
        "colab": {
          "base_uri": "https://localhost:8080/"
        },
        "id": "yywZ6e1C42eL",
        "outputId": "19eb2671-82a3-4f9c-fcf7-b74ad506bd82"
      },
      "source": [
        "import os\n",
        "os.chdir(\"/content/ALFFA_PUBLIC/ASR/SWAHILI/data/\")\n",
        "os.listdir()"
      ],
      "execution_count": 5,
      "outputs": [
        {
          "output_type": "execute_result",
          "data": {
            "text/plain": [
              "['train', 'test']"
            ]
          },
          "metadata": {
            "tags": []
          },
          "execution_count": 5
        }
      ]
    },
    {
      "cell_type": "code",
      "metadata": {
        "id": "oSKzKDLqBej6"
      },
      "source": [
        "\n",
        "import os\n",
        "import librosa   #for audio processing"
      ],
      "execution_count": 6,
      "outputs": []
    },
    {
      "cell_type": "code",
      "metadata": {
        "colab": {
          "base_uri": "https://localhost:8080/"
        },
        "id": "DFB0Cgy3ITm-",
        "outputId": "051fe5cd-2f73-4773-9f83-7515630bb3e8"
      },
      "source": [
        "!pip install torchaudio"
      ],
      "execution_count": 8,
      "outputs": [
        {
          "output_type": "stream",
          "text": [
            "Collecting torchaudio\n",
            "  Downloading torchaudio-0.9.0-cp37-cp37m-manylinux1_x86_64.whl (1.9 MB)\n",
            "\u001b[K     |████████████████████████████████| 1.9 MB 9.0 MB/s \n",
            "\u001b[?25hRequirement already satisfied: torch==1.9.0 in /usr/local/lib/python3.7/dist-packages (from torchaudio) (1.9.0+cu102)\n",
            "Requirement already satisfied: typing-extensions in /usr/local/lib/python3.7/dist-packages (from torch==1.9.0->torchaudio) (3.7.4.3)\n",
            "Installing collected packages: torchaudio\n",
            "Successfully installed torchaudio-0.9.0\n"
          ],
          "name": "stdout"
        }
      ]
    },
    {
      "cell_type": "code",
      "metadata": {
        "id": "6EzYvdnaIIiG"
      },
      "source": [
        "\n",
        "import math, random\n",
        "import torch\n",
        "import torchaudio\n",
        "import numpy as np\n",
        "import pandas as pd\n",
        "from torchaudio import transforms\n",
        "from IPython.display import Audio\n",
        "import matplotlib.pyplot as plt\n",
        "import IPython.display as ipd\n",
        "import librosa\n",
        "import librosa.display\n",
        "from scipy.io import wavfile #for audio processing\n",
        "import warnings\n",
        "warnings.filterwarnings(\"ignore\")"
      ],
      "execution_count": 9,
      "outputs": []
    },
    {
      "cell_type": "code",
      "metadata": {
        "colab": {
          "base_uri": "https://localhost:8080/"
        },
        "id": "YLjvKLC-IIkP",
        "outputId": "d62d8476-c40d-4d01-9646-f8a36a838fa4"
      },
      "source": [
        "%cd gdrive/MyDrive/"
      ],
      "execution_count": 11,
      "outputs": [
        {
          "output_type": "stream",
          "text": [
            "[Errno 2] No such file or directory: 'gdrive/MyDrive/'\n",
            "/content\n"
          ],
          "name": "stdout"
        }
      ]
    },
    {
      "cell_type": "code",
      "metadata": {
        "id": "fmB_rOcDIIvE"
      },
      "source": [
        "import os\n",
        "import librosa   #for audio processing"
      ],
      "execution_count": 15,
      "outputs": []
    },
    {
      "cell_type": "code",
      "metadata": {
        "colab": {
          "base_uri": "https://localhost:8080/"
        },
        "id": "mjkCx5iBIIz2",
        "outputId": "5fc9c633-7047-4eb7-cc65-6cff2dbfd9f7"
      },
      "source": [
        "import os\n",
        "os.chdir(\"/content/ALFFA_PUBLIC/ASR/SWAHILI/data/train/wav\")\n",
        "folders = os.listdir()\n",
        "folders[:5]"
      ],
      "execution_count": 19,
      "outputs": [
        {
          "output_type": "execute_result",
          "data": {
            "text/plain": [
              "['SWH-15-20110224',\n",
              " 'SWH-05-20101107',\n",
              " 'SWH-15-20101115',\n",
              " 'SWH-15-20110207',\n",
              " 'SWH-05-20110125']"
            ]
          },
          "metadata": {
            "tags": []
          },
          "execution_count": 19
        }
      ]
    },
    {
      "cell_type": "code",
      "metadata": {
        "colab": {
          "base_uri": "https://localhost:8080/"
        },
        "id": "DR3EFSTaII3E",
        "outputId": "ec1dbf65-50f8-4550-c9db-5db4a9b3ad57"
      },
      "source": [
        "\n",
        "len(folders)"
      ],
      "execution_count": 20,
      "outputs": [
        {
          "output_type": "execute_result",
          "data": {
            "text/plain": [
              "30"
            ]
          },
          "metadata": {
            "tags": []
          },
          "execution_count": 20
        }
      ]
    },
    {
      "cell_type": "code",
      "metadata": {
        "id": "ri8oHbpxJvh3"
      },
      "source": [
        "\n",
        "def meta_data(path):\n",
        "  df=pd.read_csv(path,sep=\"\\t\",header=None)\n",
        "  df.columns=['filename', 'transcription']\n",
        "  # df = df.head(50)\n",
        "  filepaths=[]\n",
        "  sample_rates=[]\n",
        "  duration=[]\n",
        "  for f in df['filename']:\n",
        "    parent_folder=f.split('_')[0]\n",
        "    filepath = f'{parent_folder}/{f}.wav'\n",
        "    audio, fs = librosa.load(filepath, sr=None)\n",
        "    filepaths.append(filepath)\n",
        "    sample_rates.append(fs)\n",
        "    duration.append(float(len(audio)/fs))\n",
        "  df['filepath'] = filepaths\n",
        "  df['sample_rate'] = sample_rates\n",
        "  df['duration'] = duration\n",
        "  return df"
      ],
      "execution_count": 21,
      "outputs": []
    },
    {
      "cell_type": "code",
      "metadata": {
        "id": "kFwRU3JQKqif"
      },
      "source": [
        "meta_df = meta_data('/content/ALFFA_PUBLIC/ASR/SWAHILI/data/train/text')"
      ],
      "execution_count": 23,
      "outputs": []
    },
    {
      "cell_type": "code",
      "metadata": {
        "colab": {
          "base_uri": "https://localhost:8080/",
          "height": 1000
        },
        "id": "-1RZjqQsKswF",
        "outputId": "b7d06bd2-1b80-4bc5-aa00-b781f8e38d65"
      },
      "source": [
        "meta_df"
      ],
      "execution_count": 24,
      "outputs": [
        {
          "output_type": "execute_result",
          "data": {
            "text/html": [
              "<div>\n",
              "<style scoped>\n",
              "    .dataframe tbody tr th:only-of-type {\n",
              "        vertical-align: middle;\n",
              "    }\n",
              "\n",
              "    .dataframe tbody tr th {\n",
              "        vertical-align: top;\n",
              "    }\n",
              "\n",
              "    .dataframe thead th {\n",
              "        text-align: right;\n",
              "    }\n",
              "</style>\n",
              "<table border=\"1\" class=\"dataframe\">\n",
              "  <thead>\n",
              "    <tr style=\"text-align: right;\">\n",
              "      <th></th>\n",
              "      <th>filename</th>\n",
              "      <th>transcription</th>\n",
              "      <th>filepath</th>\n",
              "      <th>sample_rate</th>\n",
              "      <th>duration</th>\n",
              "    </tr>\n",
              "  </thead>\n",
              "  <tbody>\n",
              "    <tr>\n",
              "      <th>0</th>\n",
              "      <td>SWH-05-20101106_16k-emission_swahili_05h30_-_0...</td>\n",
              "      <td>rais wa tanzania jakaya mrisho kikwete</td>\n",
              "      <td>SWH-05-20101106/SWH-05-20101106_16k-emission_s...</td>\n",
              "      <td>16000</td>\n",
              "      <td>3.140000</td>\n",
              "    </tr>\n",
              "    <tr>\n",
              "      <th>1</th>\n",
              "      <td>SWH-05-20101106_16k-emission_swahili_05h30_-_0...</td>\n",
              "      <td>yanayo andaliwa nami pendo pondo idhaa ya kisw...</td>\n",
              "      <td>SWH-05-20101106/SWH-05-20101106_16k-emission_s...</td>\n",
              "      <td>16000</td>\n",
              "      <td>3.100000</td>\n",
              "    </tr>\n",
              "    <tr>\n",
              "      <th>2</th>\n",
              "      <td>SWH-05-20101106_16k-emission_swahili_05h30_-_0...</td>\n",
              "      <td>inayokutangazia moja kwa moja kutoka jijini da...</td>\n",
              "      <td>SWH-05-20101106/SWH-05-20101106_16k-emission_s...</td>\n",
              "      <td>16000</td>\n",
              "      <td>3.650000</td>\n",
              "    </tr>\n",
              "    <tr>\n",
              "      <th>3</th>\n",
              "      <td>SWH-05-20101106_16k-emission_swahili_05h30_-_0...</td>\n",
              "      <td>juma hili bara la afrika limeshuhudia raia wa ...</td>\n",
              "      <td>SWH-05-20101106/SWH-05-20101106_16k-emission_s...</td>\n",
              "      <td>16000</td>\n",
              "      <td>3.900000</td>\n",
              "    </tr>\n",
              "    <tr>\n",
              "      <th>4</th>\n",
              "      <td>SWH-05-20101106_16k-emission_swahili_05h30_-_0...</td>\n",
              "      <td>wakipiga kura ya maoni ilikufanya mabadiliko ya</td>\n",
              "      <td>SWH-05-20101106/SWH-05-20101106_16k-emission_s...</td>\n",
              "      <td>16000</td>\n",
              "      <td>2.940000</td>\n",
              "    </tr>\n",
              "    <tr>\n",
              "      <th>...</th>\n",
              "      <td>...</td>\n",
              "      <td>...</td>\n",
              "      <td>...</td>\n",
              "      <td>...</td>\n",
              "      <td>...</td>\n",
              "    </tr>\n",
              "    <tr>\n",
              "      <th>10175</th>\n",
              "      <td>SWH-15-20110310_16k-emission_swahili_15h00_-_1...</td>\n",
              "      <td>na somo lile lililopokelewa kule kenya</td>\n",
              "      <td>SWH-15-20110310/SWH-15-20110310_16k-emission_s...</td>\n",
              "      <td>16000</td>\n",
              "      <td>2.500062</td>\n",
              "    </tr>\n",
              "    <tr>\n",
              "      <th>10176</th>\n",
              "      <td>SWH-15-20110310_16k-emission_swahili_15h00_-_1...</td>\n",
              "      <td>ambapo mtu aliyeshindwa kwenye uchaguzi</td>\n",
              "      <td>SWH-15-20110310/SWH-15-20110310_16k-emission_s...</td>\n",
              "      <td>16000</td>\n",
              "      <td>2.910000</td>\n",
              "    </tr>\n",
              "    <tr>\n",
              "      <th>10177</th>\n",
              "      <td>SWH-15-20110310_16k-emission_swahili_15h00_-_1...</td>\n",
              "      <td>ni kauli yake mchambuzi wa masuala ya siasa</td>\n",
              "      <td>SWH-15-20110310/SWH-15-20110310_16k-emission_s...</td>\n",
              "      <td>16000</td>\n",
              "      <td>2.950000</td>\n",
              "    </tr>\n",
              "    <tr>\n",
              "      <th>10178</th>\n",
              "      <td>SWH-15-20110310_16k-emission_swahili_15h00_-_1...</td>\n",
              "      <td>mwanasheria anayemtetea rais wa zamani wa liberia</td>\n",
              "      <td>SWH-15-20110310/SWH-15-20110310_16k-emission_s...</td>\n",
              "      <td>16000</td>\n",
              "      <td>2.590000</td>\n",
              "    </tr>\n",
              "    <tr>\n",
              "      <th>10179</th>\n",
              "      <td>SWH-15-20110310_16k-emission_swahili_15h00_-_1...</td>\n",
              "      <td>na kesi yake ya kubadilishana almasi na silaha...</td>\n",
              "      <td>SWH-15-20110310/SWH-15-20110310_16k-emission_s...</td>\n",
              "      <td>16000</td>\n",
              "      <td>5.010000</td>\n",
              "    </tr>\n",
              "  </tbody>\n",
              "</table>\n",
              "<p>10180 rows × 5 columns</p>\n",
              "</div>"
            ],
            "text/plain": [
              "                                                filename  ...  duration\n",
              "0      SWH-05-20101106_16k-emission_swahili_05h30_-_0...  ...  3.140000\n",
              "1      SWH-05-20101106_16k-emission_swahili_05h30_-_0...  ...  3.100000\n",
              "2      SWH-05-20101106_16k-emission_swahili_05h30_-_0...  ...  3.650000\n",
              "3      SWH-05-20101106_16k-emission_swahili_05h30_-_0...  ...  3.900000\n",
              "4      SWH-05-20101106_16k-emission_swahili_05h30_-_0...  ...  2.940000\n",
              "...                                                  ...  ...       ...\n",
              "10175  SWH-15-20110310_16k-emission_swahili_15h00_-_1...  ...  2.500062\n",
              "10176  SWH-15-20110310_16k-emission_swahili_15h00_-_1...  ...  2.910000\n",
              "10177  SWH-15-20110310_16k-emission_swahili_15h00_-_1...  ...  2.950000\n",
              "10178  SWH-15-20110310_16k-emission_swahili_15h00_-_1...  ...  2.590000\n",
              "10179  SWH-15-20110310_16k-emission_swahili_15h00_-_1...  ...  5.010000\n",
              "\n",
              "[10180 rows x 5 columns]"
            ]
          },
          "metadata": {
            "tags": []
          },
          "execution_count": 24
        }
      ]
    },
    {
      "cell_type": "code",
      "metadata": {
        "id": "DrbPFCWlLdiJ"
      },
      "source": [
        "os.chdir(\"/content/drive/MyDrive/\")"
      ],
      "execution_count": 25,
      "outputs": []
    },
    {
      "cell_type": "code",
      "metadata": {
        "id": "ACmyEhN6LhTX"
      },
      "source": [
        "\n",
        "meta_df.to_csv('metadata.csv', index=False)"
      ],
      "execution_count": 26,
      "outputs": []
    },
    {
      "cell_type": "code",
      "metadata": {
        "colab": {
          "base_uri": "https://localhost:8080/",
          "height": 861
        },
        "id": "pHAb3ZtBLkLp",
        "outputId": "b427a41f-3634-4ea0-9858-58c5b1d618c6"
      },
      "source": [
        "meta_df = pd.read_csv('metadata.csv')\n",
        "meta_df.head(10)"
      ],
      "execution_count": 27,
      "outputs": [
        {
          "output_type": "execute_result",
          "data": {
            "text/html": [
              "<div>\n",
              "<style scoped>\n",
              "    .dataframe tbody tr th:only-of-type {\n",
              "        vertical-align: middle;\n",
              "    }\n",
              "\n",
              "    .dataframe tbody tr th {\n",
              "        vertical-align: top;\n",
              "    }\n",
              "\n",
              "    .dataframe thead th {\n",
              "        text-align: right;\n",
              "    }\n",
              "</style>\n",
              "<table border=\"1\" class=\"dataframe\">\n",
              "  <thead>\n",
              "    <tr style=\"text-align: right;\">\n",
              "      <th></th>\n",
              "      <th>filename</th>\n",
              "      <th>transcription</th>\n",
              "      <th>filepath</th>\n",
              "      <th>sample_rate</th>\n",
              "      <th>duration</th>\n",
              "    </tr>\n",
              "  </thead>\n",
              "  <tbody>\n",
              "    <tr>\n",
              "      <th>0</th>\n",
              "      <td>SWH-05-20101106_16k-emission_swahili_05h30_-_0...</td>\n",
              "      <td>rais wa tanzania jakaya mrisho kikwete</td>\n",
              "      <td>SWH-05-20101106/SWH-05-20101106_16k-emission_s...</td>\n",
              "      <td>16000</td>\n",
              "      <td>3.14</td>\n",
              "    </tr>\n",
              "    <tr>\n",
              "      <th>1</th>\n",
              "      <td>SWH-05-20101106_16k-emission_swahili_05h30_-_0...</td>\n",
              "      <td>yanayo andaliwa nami pendo pondo idhaa ya kisw...</td>\n",
              "      <td>SWH-05-20101106/SWH-05-20101106_16k-emission_s...</td>\n",
              "      <td>16000</td>\n",
              "      <td>3.10</td>\n",
              "    </tr>\n",
              "    <tr>\n",
              "      <th>2</th>\n",
              "      <td>SWH-05-20101106_16k-emission_swahili_05h30_-_0...</td>\n",
              "      <td>inayokutangazia moja kwa moja kutoka jijini da...</td>\n",
              "      <td>SWH-05-20101106/SWH-05-20101106_16k-emission_s...</td>\n",
              "      <td>16000</td>\n",
              "      <td>3.65</td>\n",
              "    </tr>\n",
              "    <tr>\n",
              "      <th>3</th>\n",
              "      <td>SWH-05-20101106_16k-emission_swahili_05h30_-_0...</td>\n",
              "      <td>juma hili bara la afrika limeshuhudia raia wa ...</td>\n",
              "      <td>SWH-05-20101106/SWH-05-20101106_16k-emission_s...</td>\n",
              "      <td>16000</td>\n",
              "      <td>3.90</td>\n",
              "    </tr>\n",
              "    <tr>\n",
              "      <th>4</th>\n",
              "      <td>SWH-05-20101106_16k-emission_swahili_05h30_-_0...</td>\n",
              "      <td>wakipiga kura ya maoni ilikufanya mabadiliko ya</td>\n",
              "      <td>SWH-05-20101106/SWH-05-20101106_16k-emission_s...</td>\n",
              "      <td>16000</td>\n",
              "      <td>2.94</td>\n",
              "    </tr>\n",
              "    <tr>\n",
              "      <th>5</th>\n",
              "      <td>SWH-05-20101106_16k-emission_swahili_05h30_-_0...</td>\n",
              "      <td>kule abidjan raia wa jiji hilo</td>\n",
              "      <td>SWH-05-20101106/SWH-05-20101106_16k-emission_s...</td>\n",
              "      <td>16000</td>\n",
              "      <td>2.45</td>\n",
              "    </tr>\n",
              "    <tr>\n",
              "      <th>6</th>\n",
              "      <td>SWH-05-20101106_16k-emission_swahili_05h30_-_0...</td>\n",
              "      <td>walipata fursa ya kutumia haki yao ya msingi</td>\n",
              "      <td>SWH-05-20101106/SWH-05-20101106_16k-emission_s...</td>\n",
              "      <td>16000</td>\n",
              "      <td>2.62</td>\n",
              "    </tr>\n",
              "    <tr>\n",
              "      <th>7</th>\n",
              "      <td>SWH-05-20101106_16k-emission_swahili_05h30_-_0...</td>\n",
              "      <td>waziri mkuu wa zamani alasane watara</td>\n",
              "      <td>SWH-05-20101106/SWH-05-20101106_16k-emission_s...</td>\n",
              "      <td>16000</td>\n",
              "      <td>2.48</td>\n",
              "    </tr>\n",
              "    <tr>\n",
              "      <th>8</th>\n",
              "      <td>SWH-05-20101106_16k-emission_swahili_05h30_-_0...</td>\n",
              "      <td>na rais aliyetangulia henry konan berdi</td>\n",
              "      <td>SWH-05-20101106/SWH-05-20101106_16k-emission_s...</td>\n",
              "      <td>16000</td>\n",
              "      <td>3.53</td>\n",
              "    </tr>\n",
              "    <tr>\n",
              "      <th>9</th>\n",
              "      <td>SWH-05-20101106_16k-emission_swahili_05h30_-_0...</td>\n",
              "      <td>walichuana vikali na rais lauren bagbo</td>\n",
              "      <td>SWH-05-20101106/SWH-05-20101106_16k-emission_s...</td>\n",
              "      <td>16000</td>\n",
              "      <td>2.74</td>\n",
              "    </tr>\n",
              "  </tbody>\n",
              "</table>\n",
              "</div>"
            ],
            "text/plain": [
              "                                            filename  ... duration\n",
              "0  SWH-05-20101106_16k-emission_swahili_05h30_-_0...  ...     3.14\n",
              "1  SWH-05-20101106_16k-emission_swahili_05h30_-_0...  ...     3.10\n",
              "2  SWH-05-20101106_16k-emission_swahili_05h30_-_0...  ...     3.65\n",
              "3  SWH-05-20101106_16k-emission_swahili_05h30_-_0...  ...     3.90\n",
              "4  SWH-05-20101106_16k-emission_swahili_05h30_-_0...  ...     2.94\n",
              "5  SWH-05-20101106_16k-emission_swahili_05h30_-_0...  ...     2.45\n",
              "6  SWH-05-20101106_16k-emission_swahili_05h30_-_0...  ...     2.62\n",
              "7  SWH-05-20101106_16k-emission_swahili_05h30_-_0...  ...     2.48\n",
              "8  SWH-05-20101106_16k-emission_swahili_05h30_-_0...  ...     3.53\n",
              "9  SWH-05-20101106_16k-emission_swahili_05h30_-_0...  ...     2.74\n",
              "\n",
              "[10 rows x 5 columns]"
            ]
          },
          "metadata": {
            "tags": []
          },
          "execution_count": 27
        }
      ]
    },
    {
      "cell_type": "code",
      "metadata": {
        "id": "hvdvQyLKLn4s"
      },
      "source": [
        ""
      ],
      "execution_count": null,
      "outputs": []
    }
  ]
}