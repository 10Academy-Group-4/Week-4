{
 "cells": [
  {
   "cell_type": "code",
   "execution_count": 1,
   "source": [
    "import pandas as pd\r\n",
    "import traceback\r\n",
    "import os,sys\r\n",
    "\r\n",
    "sys.path.append(os.path.abspath(os.path.join('../scripts')))\r\n",
    "from MetaCreate import MetaCreate\r\n",
    "from AudioManipulator import AudioManipulator\r\n",
    "from preprocess_uitls import pad_audio_files, featurize\r\n",
    "from utils import char_map,index_map, int_sequence_to_text ,text_to_int_sequence\r\n",
    "\r\n",
    "\r\n",
    "import librosa\r\n",
    "import matplotlib.pyplot as plt\r\n",
    "# from mpl_toolkits.axes_grid1 import make_axes_locatable\r\n",
    "\r\n",
    "    \r\n",
    "# from keras.utils.vis_utils import plot_model\r\n",
    "\r\n",
    "\r\n",
    "import _pickle as pickle\r\n",
    "from numpy.lib.stride_tricks import as_strided\r\n",
    "\r\n",
    "from Models import cnn_rnn_model,simple_rnn,model_2,bidirectional_rnn_model_gpu,bidirectional_rnn_model\r\n",
    "# from keras.callbacks import ModelCheckpoint   "
   ],
   "outputs": [],
   "metadata": {}
  },
  {
   "cell_type": "code",
   "execution_count": 2,
   "source": [
    "data=pd.read_json('../artifacts/meta.json')\r\n",
    "data.drop(data[data[\"text\"].str.contains(\"\"\"[!\"#$%&\\'()*+,-./:;<=>?@[\\\\]^_`{|}~1234567890]\"\"\", na=False)].index,inplace=True)\r\n",
    "with open('../artifacts/features.pkl','rb') as tel:\r\n",
    "    features=pickle.load(tel)\r\n",
    "    tel.close()"
   ],
   "outputs": [],
   "metadata": {}
  },
  {
   "cell_type": "code",
   "execution_count": 3,
   "source": [
    "valid_data=pd.read_json(\"../artifacts/valid_meta.json\")\r\n",
    "valid_data.drop(valid_data[valid_data[\"text\"].str.contains(\"\"\"[!\"#$%&\\'()*+,-./:;<=>?@[\\\\]^_`{|}~1234567890]\"\"\", na=False)].index,inplace=True)\r\n",
    "with open('../artifacts/valid_features.pkl','rb') as val:\r\n",
    "    valid_features=pickle.load(val)\r\n",
    "    val.close()"
   ],
   "outputs": [],
   "metadata": {}
  },
  {
   "cell_type": "markdown",
   "source": [
    "# Augmentation\r\n"
   ],
   "metadata": {}
  },
  {
   "cell_type": "code",
   "execution_count": 4,
   "source": [
    "from preprocess_uitls import pad_audio_files,featurize,pitch_audio,shift"
   ],
   "outputs": [],
   "metadata": {}
  },
  {
   "cell_type": "code",
   "execution_count": 29,
   "source": [
    "import preprocess_uitls\r\n",
    "import importlib\r\n",
    "importlib.reload(preprocess_uitls)"
   ],
   "outputs": [
    {
     "output_type": "execute_result",
     "data": {
      "text/plain": [
       "<module 'preprocess_uitls' from 'd:\\\\same\\\\Documents\\\\10Acadamy\\\\Week 4\\\\System\\\\Week-4\\\\scripts\\\\preprocess_uitls.py'>"
      ]
     },
     "metadata": {},
     "execution_count": 29
    }
   ],
   "metadata": {}
  },
  {
   "cell_type": "code",
   "execution_count": 5,
   "source": [
    "data[\"audio\"]=pad_audio_files(data[\"path\"],98400)"
   ],
   "outputs": [],
   "metadata": {}
  },
  {
   "cell_type": "code",
   "execution_count": 6,
   "source": [
    "valid_data[\"audio\"]=pad_audio_files(valid_data[\"path\"],98400)"
   ],
   "outputs": [],
   "metadata": {}
  },
  {
   "cell_type": "code",
   "execution_count": 8,
   "source": [
    "pitched=pitch_audio(data[\"audio\"],-2,16000)"
   ],
   "outputs": [],
   "metadata": {}
  },
  {
   "cell_type": "code",
   "execution_count": 9,
   "source": [
    "pitched_valid=pitch_audio(valid_data[\"audio\"],-1,16000)"
   ],
   "outputs": [],
   "metadata": {}
  },
  {
   "cell_type": "code",
   "execution_count": 10,
   "source": [
    "pitched_features=featurize(pitched,16000)"
   ],
   "outputs": [],
   "metadata": {}
  },
  {
   "cell_type": "code",
   "execution_count": 11,
   "source": [
    "with open('../artifacts/pitched_features.pickle', 'wb') as p:\r\n",
    "        pickle.dump(pitched_features, p)"
   ],
   "outputs": [],
   "metadata": {}
  },
  {
   "cell_type": "code",
   "execution_count": 12,
   "source": [
    "pitched_valid_features=featurize(pitched_valid,16000)"
   ],
   "outputs": [],
   "metadata": {}
  },
  {
   "cell_type": "code",
   "execution_count": 14,
   "source": [
    "pitched=\"\"\r\n",
    "pitched_valid=\"\""
   ],
   "outputs": [],
   "metadata": {}
  },
  {
   "cell_type": "code",
   "execution_count": 13,
   "source": [
    "with open('../artifacts/pitched_valid_features.pickle', 'wb') as v:\r\n",
    "        pickle.dump(pitched_valid_features, v)"
   ],
   "outputs": [],
   "metadata": {}
  },
  {
   "cell_type": "code",
   "execution_count": 15,
   "source": [
    "shifted=shift(data[\"audio\"],\"right\",1,16000)"
   ],
   "outputs": [],
   "metadata": {}
  },
  {
   "cell_type": "code",
   "execution_count": 16,
   "source": [
    "shifted_valid=shift(valid_data[\"audio\"],\"right\",1,16000)"
   ],
   "outputs": [],
   "metadata": {}
  },
  {
   "cell_type": "code",
   "execution_count": 17,
   "source": [
    "shifted_features=featurize(shifted,16000)"
   ],
   "outputs": [],
   "metadata": {}
  },
  {
   "cell_type": "code",
   "execution_count": 18,
   "source": [
    "shifted_valid_features=featurize(shifted_valid,16000)"
   ],
   "outputs": [],
   "metadata": {}
  },
  {
   "cell_type": "code",
   "execution_count": 19,
   "source": [
    "with open('../artifacts/shifted_features.pickle', 'wb') as v:\r\n",
    "        pickle.dump(shifted_features, v)"
   ],
   "outputs": [],
   "metadata": {}
  },
  {
   "cell_type": "code",
   "execution_count": 20,
   "source": [
    "with open('../artifacts/shifted_valid_features.pickle', 'wb') as vs:\r\n",
    "        pickle.dump(shifted_valid_features, vs)"
   ],
   "outputs": [],
   "metadata": {}
  },
  {
   "cell_type": "code",
   "execution_count": 21,
   "source": [
    "shifted=\"\"\r\n",
    "shifted_valid=\"\""
   ],
   "outputs": [],
   "metadata": {}
  },
  {
   "cell_type": "code",
   "execution_count": 22,
   "source": [
    "total_text=[]\r\n",
    "total_features=[]\r\n",
    "total_valid_text=[]\r\n",
    "total_valid_features=[]"
   ],
   "outputs": [],
   "metadata": {}
  },
  {
   "cell_type": "code",
   "execution_count": 23,
   "source": [
    "import numpy as np"
   ],
   "outputs": [],
   "metadata": {}
  },
  {
   "cell_type": "code",
   "execution_count": 24,
   "source": [
    "total_text=data[\"text\"].tolist()+data[\"text\"].tolist()+data[\"text\"].tolist()\r\n",
    "total_features=features+pitched_features+shifted_features\r\n",
    "total_valid_text=valid_data[\"text\"].tolist()+valid_data[\"text\"].tolist()+valid_data[\"text\"].tolist()\r\n",
    "total_valid_features=valid_features+pitched_valid_features+shifted_valid_features"
   ],
   "outputs": [],
   "metadata": {}
  },
  {
   "cell_type": "code",
   "execution_count": 62,
   "source": [
    "len(total_valid_features)"
   ],
   "outputs": [
    {
     "output_type": "execute_result",
     "data": {
      "text/plain": [
       "5970"
      ]
     },
     "metadata": {},
     "execution_count": 62
    }
   ],
   "metadata": {}
  },
  {
   "cell_type": "code",
   "execution_count": 25,
   "source": [
    "data=[]\r\n",
    "valid_data=[]"
   ],
   "outputs": [],
   "metadata": {}
  },
  {
   "cell_type": "code",
   "execution_count": 26,
   "source": [
    "shifted_valid_features,shifted_features,pitched_features,pitched_valid_features=[],[],[],[]"
   ],
   "outputs": [],
   "metadata": {}
  },
  {
   "cell_type": "code",
   "execution_count": null,
   "source": [],
   "outputs": [],
   "metadata": {}
  },
  {
   "cell_type": "code",
   "execution_count": 27,
   "source": [
    "import mlflow\r\n",
    "import mlflow.tensorflow"
   ],
   "outputs": [],
   "metadata": {}
  },
  {
   "cell_type": "code",
   "execution_count": 28,
   "source": [
    "from Batch import Batch"
   ],
   "outputs": [],
   "metadata": {}
  },
  {
   "cell_type": "code",
   "execution_count": 29,
   "source": [
    "cnn_rnn = cnn_rnn_model(input_dim=26, # change to 13 if you would like to use MFCC features\r\n",
    "                        filters=250,\r\n",
    "                        kernel_size=4, \r\n",
    "                        conv_stride=1,\r\n",
    "                        conv_border_mode='same',\r\n",
    "                        units=200,output_dim=29)"
   ],
   "outputs": [
    {
     "output_type": "stream",
     "name": "stdout",
     "text": [
      "Model: \"model\"\n",
      "_________________________________________________________________\n",
      "Layer (type)                 Output Shape              Param #   \n",
      "=================================================================\n",
      "the_input (InputLayer)       [(None, None, 26)]        0         \n",
      "_________________________________________________________________\n",
      "conv1d (Conv1D)              (None, None, 250)         26250     \n",
      "_________________________________________________________________\n",
      "bn_conv_1d (BatchNormalizati (None, None, 250)         1000      \n",
      "_________________________________________________________________\n",
      "rnn (SimpleRNN)              (None, None, 200)         90200     \n",
      "_________________________________________________________________\n",
      "batch_normalization (BatchNo (None, None, 200)         800       \n",
      "_________________________________________________________________\n",
      "time_distributed (TimeDistri (None, None, 29)          5829      \n",
      "_________________________________________________________________\n",
      "softmax (Activation)         (None, None, 29)          0         \n",
      "=================================================================\n",
      "Total params: 124,079\n",
      "Trainable params: 123,179\n",
      "Non-trainable params: 900\n",
      "_________________________________________________________________\n",
      "None\n"
     ]
    }
   ],
   "metadata": {}
  },
  {
   "cell_type": "code",
   "execution_count": 30,
   "source": [
    "\r\n",
    "MODEL_NAME = \"cnn_rnn_augmented\"\r\n",
    "EPOCHS=50\r\n",
    "MINI_BATCH_SIZE = 200\r\n",
    "FEATURES_LIST=total_features\r\n",
    "\r\n",
    "TEXT_LIST=total_text\r\n",
    "\r\n",
    "FEATURES_VALID_LIST=total_valid_features\r\n",
    "\r\n",
    "TEXT_VALID_LIST=total_valid_text\r\n",
    "\r\n",
    "audio_gen = Batch(FEATURES_LIST,FEATURES_VALID_LIST,TEXT_LIST,TEXT_VALID_LIST,MINI_BATCH_SIZE)"
   ],
   "outputs": [],
   "metadata": {}
  },
  {
   "cell_type": "code",
   "execution_count": 31,
   "source": [
    "from Train import train"
   ],
   "outputs": [],
   "metadata": {}
  },
  {
   "cell_type": "code",
   "execution_count": 32,
   "source": [
    "import mlflow\r\n",
    "import mlflow.tensorflow"
   ],
   "outputs": [],
   "metadata": {}
  },
  {
   "cell_type": "code",
   "execution_count": 33,
   "source": [
    "mlflow.tensorflow.autolog()\r\n",
    "mlflow.set_experiment(\"CNN RNN Augmented Data\")\r\n",
    "train(audio_gen, input_to_softmax=cnn_rnn, model_name=MODEL_NAME, epochs=EPOCHS, minibatch_size=MINI_BATCH_SIZE)\r\n",
    "\r\n",
    "mlflow.end_run()"
   ],
   "outputs": [
    {
     "output_type": "stream",
     "name": "stderr",
     "text": [
      "D:\\Users\\same\\anaconda3\\lib\\site-packages\\tensorflow\\python\\keras\\engine\\training.py:1940: UserWarning: `Model.fit_generator` is deprecated and will be removed in a future version. Please use `Model.fit`, which supports generators.\n",
      "  warnings.warn('`Model.fit_generator` is deprecated and '\n",
      "2021/08/11 03:55:25 INFO mlflow.utils.autologging_utils: Created MLflow autologging run with ID '0c5173ae57bd4e87b1bb6c2c2348f095', which will track hyperparameters, performance metrics, model artifacts, and lineage information for the current tensorflow workflow\n"
     ]
    },
    {
     "output_type": "stream",
     "name": "stdout",
     "text": [
      "Epoch 1/50\n",
      "140/140 [==============================] - 257s 1s/step - loss: 138.9264 - val_loss: nan\n",
      "Epoch 2/50\n",
      "140/140 [==============================] - 132s 945ms/step - loss: 108.4297 - val_loss: nan\n",
      "Epoch 3/50\n",
      "140/140 [==============================] - 134s 957ms/step - loss: 102.1505 - val_loss: nan\n",
      "Epoch 4/50\n",
      "140/140 [==============================] - 132s 947ms/step - loss: 98.6317 - val_loss: nan\n",
      "Epoch 5/50\n",
      "140/140 [==============================] - 132s 944ms/step - loss: 96.4973 - val_loss: nan\n",
      "Epoch 6/50\n",
      "140/140 [==============================] - 132s 941ms/step - loss: 94.6732 - val_loss: nan\n",
      "Epoch 7/50\n",
      "140/140 [==============================] - 133s 947ms/step - loss: 93.4806 - val_loss: nan\n",
      "Epoch 8/50\n",
      "140/140 [==============================] - 132s 946ms/step - loss: 92.2484 - val_loss: nan\n",
      "Epoch 9/50\n",
      "140/140 [==============================] - 132s 943ms/step - loss: 91.3171 - val_loss: nan\n",
      "Epoch 10/50\n",
      "140/140 [==============================] - 133s 947ms/step - loss: 90.3565 - val_loss: nan\n",
      "Epoch 11/50\n",
      "140/140 [==============================] - 133s 952ms/step - loss: 89.6490 - val_loss: nan\n",
      "Epoch 12/50\n",
      "140/140 [==============================] - 135s 968ms/step - loss: 88.8875 - val_loss: nan\n",
      "Epoch 13/50\n",
      "140/140 [==============================] - 132s 946ms/step - loss: 88.0059 - val_loss: nan\n",
      "Epoch 14/50\n",
      "140/140 [==============================] - 132s 945ms/step - loss: 87.4555 - val_loss: nan\n",
      "Epoch 15/50\n",
      "140/140 [==============================] - 133s 950ms/step - loss: 87.0682 - val_loss: nan\n",
      "Epoch 16/50\n",
      "140/140 [==============================] - 132s 944ms/step - loss: 86.5923 - val_loss: nan\n",
      "Epoch 17/50\n",
      "140/140 [==============================] - 131s 940ms/step - loss: 86.0074 - val_loss: nan\n",
      "Epoch 18/50\n",
      "140/140 [==============================] - 132s 943ms/step - loss: 85.6106 - val_loss: nan\n",
      "Epoch 19/50\n",
      "140/140 [==============================] - 132s 946ms/step - loss: 85.2211 - val_loss: nan\n",
      "Epoch 20/50\n",
      "140/140 [==============================] - 132s 943ms/step - loss: 84.8430 - val_loss: nan\n",
      "Epoch 21/50\n",
      "140/140 [==============================] - 132s 944ms/step - loss: 84.8485 - val_loss: nan\n",
      "Epoch 22/50\n",
      "140/140 [==============================] - 133s 947ms/step - loss: 84.5170 - val_loss: nan\n",
      "Epoch 23/50\n",
      "140/140 [==============================] - 133s 952ms/step - loss: 84.3914 - val_loss: nan\n",
      "Epoch 24/50\n",
      "140/140 [==============================] - 132s 945ms/step - loss: 84.2934 - val_loss: nan\n",
      "Epoch 25/50\n",
      "140/140 [==============================] - 133s 949ms/step - loss: 84.6430 - val_loss: nan\n",
      "Epoch 26/50\n",
      "140/140 [==============================] - 133s 952ms/step - loss: 84.6515 - val_loss: nan\n",
      "Epoch 27/50\n",
      "140/140 [==============================] - 134s 957ms/step - loss: 84.6490 - val_loss: nan\n",
      "Epoch 28/50\n",
      "140/140 [==============================] - 132s 943ms/step - loss: 85.4435 - val_loss: nan\n",
      "Epoch 29/50\n",
      "140/140 [==============================] - 132s 945ms/step - loss: 85.6094 - val_loss: nan\n",
      "Epoch 30/50\n",
      "140/140 [==============================] - 133s 948ms/step - loss: 84.9630 - val_loss: nan\n",
      "Epoch 31/50\n",
      "140/140 [==============================] - 133s 947ms/step - loss: 86.0839 - val_loss: nan\n",
      "Epoch 32/50\n",
      "140/140 [==============================] - 132s 947ms/step - loss: 92.6829 - val_loss: nan\n",
      "Epoch 33/50\n",
      "140/140 [==============================] - 132s 944ms/step - loss: 86.8544 - val_loss: nan\n",
      "Epoch 34/50\n",
      "140/140 [==============================] - 132s 946ms/step - loss: 85.6488 - val_loss: nan\n",
      "Epoch 35/50\n",
      "140/140 [==============================] - 132s 944ms/step - loss: 86.9178 - val_loss: nan\n",
      "Epoch 36/50\n",
      "140/140 [==============================] - 132s 943ms/step - loss: 85.8904 - val_loss: nan\n",
      "Epoch 37/50\n",
      "140/140 [==============================] - 133s 948ms/step - loss: 88.4972 - val_loss: nan\n",
      "Epoch 38/50\n",
      "140/140 [==============================] - 132s 943ms/step - loss: 92.3104 - val_loss: nan\n",
      "Epoch 39/50\n",
      "140/140 [==============================] - 133s 947ms/step - loss: 88.2155 - val_loss: nan\n",
      "Epoch 40/50\n",
      "140/140 [==============================] - 132s 943ms/step - loss: 87.7594 - val_loss: nan\n",
      "Epoch 41/50\n",
      "140/140 [==============================] - 133s 948ms/step - loss: 87.8008 - val_loss: nan\n",
      "Epoch 42/50\n",
      "140/140 [==============================] - 132s 944ms/step - loss: 87.8449 - val_loss: nan\n",
      "Epoch 43/50\n",
      "140/140 [==============================] - 133s 951ms/step - loss: 90.2197 - val_loss: nan\n",
      "Epoch 44/50\n",
      "140/140 [==============================] - 133s 948ms/step - loss: 89.8269 - val_loss: nan\n",
      "Epoch 45/50\n",
      "140/140 [==============================] - 132s 947ms/step - loss: 88.9766 - val_loss: nan\n",
      "Epoch 46/50\n",
      "140/140 [==============================] - 132s 944ms/step - loss: 88.8062 - val_loss: nan\n",
      "Epoch 47/50\n",
      "140/140 [==============================] - 133s 948ms/step - loss: 88.5408 - val_loss: nan\n",
      "Epoch 48/50\n",
      "140/140 [==============================] - 133s 950ms/step - loss: 91.2981 - val_loss: nan\n",
      "Epoch 49/50\n",
      "140/140 [==============================] - 133s 947ms/step - loss: 93.4933 - val_loss: nan\n",
      "Epoch 50/50\n",
      "140/140 [==============================] - 133s 948ms/step - loss: 92.3683 - val_loss: nan\n"
     ]
    },
    {
     "output_type": "stream",
     "name": "stderr",
     "text": [
      "2021/08/11 05:48:26 WARNING mlflow.utils.autologging_utils: MLflow autologging encountered a warning: \"D:\\Users\\same\\anaconda3\\lib\\site-packages\\mlflow\\tensorflow.py:805: UserWarning: Logging to MLflow failed: module 'keras.utils.generic_utils' has no attribute 'populate_dict_with_module_objects'\"\n"
     ]
    }
   ],
   "metadata": {}
  },
  {
   "cell_type": "code",
   "execution_count": 34,
   "source": [
    "\r\n",
    "MODEL_NAME = \"deep_augmented\"\r\n",
    "EPOCHS=20\r\n",
    "MINI_BATCH_SIZE = 200\r\n",
    "FEATURES_LIST=total_features\r\n",
    "\r\n",
    "TEXT_LIST=total_text\r\n",
    "\r\n",
    "FEATURES_VALID_LIST=total_valid_features\r\n",
    "\r\n",
    "TEXT_VALID_LIST=total_valid_text\r\n",
    "\r\n",
    "audio_gen = Batch(FEATURES_LIST,FEATURES_VALID_LIST,TEXT_LIST,TEXT_VALID_LIST,MINI_BATCH_SIZE)"
   ],
   "outputs": [],
   "metadata": {}
  },
  {
   "cell_type": "code",
   "execution_count": 35,
   "source": [
    "deep_speech = model_2(input_dim=26,\r\n",
    "                filters=100,\r\n",
    "                kernel_size=4, \r\n",
    "                conv_stride=1,\r\n",
    "                conv_border_mode='valid',\r\n",
    "                units=250,\r\n",
    "                activation='tanh',\r\n",
    "                dropout_rate=0.6,\r\n",
    "                number_of_layers=2,\r\n",
    "                output_dim=len(char_map)+1)"
   ],
   "outputs": [
    {
     "output_type": "stream",
     "name": "stdout",
     "text": [
      "Model: \"model_2\"\n",
      "_________________________________________________________________\n",
      "Layer (type)                 Output Shape              Param #   \n",
      "=================================================================\n",
      "the_input (InputLayer)       [(None, None, 26)]        0         \n",
      "_________________________________________________________________\n",
      "layer_1_conv (Conv1D)        (None, None, 100)         10500     \n",
      "_________________________________________________________________\n",
      "conv_batch_norm (BatchNormal (None, None, 100)         400       \n",
      "_________________________________________________________________\n",
      "rnn_1 (GRU)                  (None, None, 250)         264000    \n",
      "_________________________________________________________________\n",
      "bt_rnn_1 (BatchNormalization (None, None, 250)         1000      \n",
      "_________________________________________________________________\n",
      "final_layer_of_rnn (GRU)     (None, None, 250)         376500    \n",
      "_________________________________________________________________\n",
      "bt_rnn_final (BatchNormaliza (None, None, 250)         1000      \n",
      "_________________________________________________________________\n",
      "time_distributed_1 (TimeDist (None, None, 29)          7279      \n",
      "_________________________________________________________________\n",
      "softmax (Activation)         (None, None, 29)          0         \n",
      "=================================================================\n",
      "Total params: 660,679\n",
      "Trainable params: 659,479\n",
      "Non-trainable params: 1,200\n",
      "_________________________________________________________________\n",
      "None\n"
     ]
    }
   ],
   "metadata": {}
  },
  {
   "cell_type": "code",
   "execution_count": 36,
   "source": [
    "mlflow.tensorflow.autolog()\r\n",
    "mlflow.set_experiment(\"Deep Speech Augmented\")\r\n",
    "train(audio_gen, input_to_softmax=deep_speech, model_name=MODEL_NAME, epochs=EPOCHS, minibatch_size=MINI_BATCH_SIZE)\r\n",
    "\r\n",
    "mlflow.end_run()"
   ],
   "outputs": [
    {
     "output_type": "stream",
     "name": "stderr",
     "text": [
      "2021/08/11 05:48:32 INFO mlflow.utils.autologging_utils: Created MLflow autologging run with ID '8a646302c2774c5fb308a379f3ae2889', which will track hyperparameters, performance metrics, model artifacts, and lineage information for the current tensorflow workflow\n"
     ]
    },
    {
     "output_type": "stream",
     "name": "stdout",
     "text": [
      "Epoch 1/20\n",
      "140/140 [==============================] - 118s 799ms/step - loss: 145.2840 - val_loss: 131.5580\n",
      "Epoch 2/20\n",
      "140/140 [==============================] - 110s 783ms/step - loss: 107.1035 - val_loss: 110.4479\n",
      "Epoch 3/20\n",
      "140/140 [==============================] - 110s 785ms/step - loss: 97.6631 - val_loss: 104.8024\n",
      "Epoch 4/20\n",
      "140/140 [==============================] - 111s 790ms/step - loss: 91.6348 - val_loss: 100.0569\n",
      "Epoch 5/20\n",
      "140/140 [==============================] - 110s 785ms/step - loss: 87.0408 - val_loss: 99.0599\n",
      "Epoch 6/20\n",
      "140/140 [==============================] - 114s 817ms/step - loss: 83.5312 - val_loss: 96.8731\n",
      "Epoch 7/20\n",
      "140/140 [==============================] - 123s 878ms/step - loss: 80.5837 - val_loss: 96.6903\n",
      "Epoch 8/20\n",
      "140/140 [==============================] - 122s 872ms/step - loss: 77.9169 - val_loss: 98.4714\n",
      "Epoch 9/20\n",
      "140/140 [==============================] - 122s 869ms/step - loss: 75.7535 - val_loss: 92.8637\n",
      "Epoch 10/20\n",
      "140/140 [==============================] - 122s 870ms/step - loss: 73.9485 - val_loss: 98.0957\n",
      "Epoch 11/20\n",
      "140/140 [==============================] - 121s 867ms/step - loss: 72.4275 - val_loss: 89.9010\n",
      "Epoch 12/20\n",
      "140/140 [==============================] - 121s 867ms/step - loss: 71.0542 - val_loss: 88.9645\n",
      "Epoch 13/20\n",
      "140/140 [==============================] - 121s 868ms/step - loss: 69.5106 - val_loss: 93.0816\n",
      "Epoch 14/20\n",
      "140/140 [==============================] - 122s 874ms/step - loss: 68.3625 - val_loss: 90.5970\n",
      "Epoch 15/20\n",
      "140/140 [==============================] - 119s 854ms/step - loss: 67.3337 - val_loss: 90.4240\n",
      "Epoch 16/20\n",
      "140/140 [==============================] - 121s 863ms/step - loss: 66.5411 - val_loss: 91.4560\n",
      "Epoch 17/20\n",
      "140/140 [==============================] - 120s 856ms/step - loss: 65.7781 - val_loss: 89.6380\n",
      "Epoch 18/20\n",
      "140/140 [==============================] - 120s 859ms/step - loss: 64.8395 - val_loss: 90.8735\n",
      "Epoch 19/20\n",
      "140/140 [==============================] - 120s 857ms/step - loss: 64.2445 - val_loss: 89.1011\n",
      "Epoch 20/20\n",
      "140/140 [==============================] - 120s 857ms/step - loss: 63.3762 - val_loss: 100.1601\n"
     ]
    }
   ],
   "metadata": {}
  }
 ],
 "metadata": {
  "orig_nbformat": 4,
  "language_info": {
   "name": "python",
   "version": "3.8.8",
   "mimetype": "text/x-python",
   "codemirror_mode": {
    "name": "ipython",
    "version": 3
   },
   "pygments_lexer": "ipython3",
   "nbconvert_exporter": "python",
   "file_extension": ".py"
  },
  "kernelspec": {
   "name": "python3",
   "display_name": "Python 3.8.8 64-bit ('base': conda)"
  },
  "interpreter": {
   "hash": "3ebe1e15dab481e38dbc50cacd21ed8ec6b22a54b0f3cb3b993bb569cf9c8bed"
  }
 },
 "nbformat": 4,
 "nbformat_minor": 2
}