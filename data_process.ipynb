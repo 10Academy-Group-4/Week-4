{
  "nbformat": 4,
  "nbformat_minor": 0,
  "metadata": {
    "colab": {
      "name": "data_process.ipynb",
      "provenance": [],
      "collapsed_sections": [],
      "mount_file_id": "1DWn6QmyJjPmEkiy8CrYD8foDzfTZmfYU",
      "authorship_tag": "ABX9TyPSYxt1V2wmury6f0z45cNo",
      "include_colab_link": true
    },
    "kernelspec": {
      "name": "python3",
      "display_name": "Python 3"
    },
    "language_info": {
      "name": "python"
    }
  },
  "cells": [
    {
      "cell_type": "markdown",
      "metadata": {
        "id": "view-in-github",
        "colab_type": "text"
      },
      "source": [
        "<a href=\"https://colab.research.google.com/github/10Academy-Group-4/Week-4/blob/data_preprocess_mubby/data_process.ipynb\" target=\"_parent\"><img src=\"https://colab.research.google.com/assets/colab-badge.svg\" alt=\"Open In Colab\"/></a>"
      ]
    },
    {
      "cell_type": "code",
      "metadata": {
        "colab": {
          "base_uri": "https://localhost:8080/"
        },
        "id": "MTljpwZ87bch",
        "outputId": "d3ec1120-fb84-431c-b5e7-4b8f1433b18a"
      },
      "source": [
        "import os\n",
        "os.chdir(\"drive/MyDrive/Week-4/data/SWAHILI\")\n",
        "os.listdir()"
      ],
      "execution_count": 6,
      "outputs": [
        {
          "output_type": "execute_result",
          "data": {
            "text/plain": [
              "['LM', 'README', 'data', 'kaldi-scripts', 'lang']"
            ]
          },
          "metadata": {
            "tags": []
          },
          "execution_count": 6
        }
      ]
    },
    {
      "cell_type": "code",
      "metadata": {
        "id": "iEZY0UA95PCM"
      },
      "source": [
        "import math, random\n",
        "import torch\n",
        "import torchaudio\n",
        "import numpy as np\n",
        "from torchaudio import transforms\n",
        "from IPython.display import Audio\n",
        "import matplotlib.pyplot as plt\n",
        "import IPython.display as ipd\n",
        "import librosa\n",
        "import librosa.display\n",
        "from scipy.io import wavfile #for audio processing\n",
        "import warnings\n",
        "warnings.filterwarnings(\"ignore\")"
      ],
      "execution_count": 7,
      "outputs": []
    },
    {
      "cell_type": "code",
      "metadata": {
        "id": "nyt_CbWS7E9W"
      },
      "source": [
        ""
      ],
      "execution_count": null,
      "outputs": []
    }
  ]
}