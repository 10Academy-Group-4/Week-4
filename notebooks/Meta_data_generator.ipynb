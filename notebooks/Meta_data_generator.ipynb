{
  "nbformat": 4,
  "nbformat_minor": 0,
  "metadata": {
    "colab": {
      "name": "Meta_data_generator.ipynb",
      "provenance": [],
      "collapsed_sections": []
    },
    "kernelspec": {
      "name": "python3",
      "display_name": "Python 3"
    },
    "language_info": {
      "name": "python"
    }
  },
  "cells": [
    {
      "cell_type": "code",
      "metadata": {
        "id": "YqLFmFIAlQ7U"
      },
      "source": [
        "import librosa\n",
        "import traceback\n",
        "import sys,os"
      ],
      "execution_count": 29,
      "outputs": []
    },
    {
      "cell_type": "code",
      "metadata": {
        "colab": {
          "base_uri": "https://localhost:8080/"
        },
        "id": "4q9btQL1W7BY",
        "outputId": "63866307-1e86-467a-aa94-6f347a865fc0"
      },
      "source": [
        "from google.colab import drive\n",
        "drive.mount('/content/gdrive', force_remount=True)"
      ],
      "execution_count": 12,
      "outputs": [
        {
          "output_type": "stream",
          "text": [
            "Mounted at /content/gdrive\n"
          ],
          "name": "stdout"
        }
      ]
    },
    {
      "cell_type": "code",
      "metadata": {
        "id": "1xTZRZQd08uV"
      },
      "source": [
        "sys.path.append(os.path.abspath(os.path.join('../scripts')))"
      ],
      "execution_count": null,
      "outputs": []
    },
    {
      "cell_type": "code",
      "metadata": {
        "id": "7KT6gHLXSQjH"
      },
      "source": [
        "from MetaDataGeneration import Create_meta_data"
      ],
      "execution_count": 18,
      "outputs": []
    },
    {
      "cell_type": "code",
      "metadata": {
        "id": "Sc92gj9BXafG"
      },
      "source": [
        "trans_path ='/content/gdrive/MyDrive/data/SWAHILI/data/train/text.txt'"
      ],
      "execution_count": 19,
      "outputs": []
    },
    {
      "cell_type": "code",
      "metadata": {
        "id": "-7_mZPEP7izv"
      },
      "source": [
        "audio_path = '/content/gdrive/MyDrive/data/SWAHILI/data/train/wav'"
      ],
      "execution_count": 20,
      "outputs": []
    },
    {
      "cell_type": "code",
      "metadata": {
        "id": "lGurPQvT8vKa"
      },
      "source": [
        "audio_extension = '.wav'"
      ],
      "execution_count": 21,
      "outputs": []
    },
    {
      "cell_type": "code",
      "metadata": {
        "id": "1AYi-YIzaAJF"
      },
      "source": [
        "meta = Create_meta_data(transcription_path=trans_path, audio_path=audio_path,\n",
        "                        audio_extension='.wav')"
      ],
      "execution_count": 22,
      "outputs": []
    },
    {
      "cell_type": "code",
      "metadata": {
        "id": "M--J-ugZon7V"
      },
      "source": [
        "meta.load_transcription()\n",
        "meta.load_audio_filepaths()"
      ],
      "execution_count": null,
      "outputs": []
    },
    {
      "cell_type": "code",
      "metadata": {
        "id": "Jeuj8O-efJ7o"
      },
      "source": [
        "meta.meta_data_to_json()"
      ],
      "execution_count": null,
      "outputs": []
    },
    {
      "cell_type": "code",
      "metadata": {
        "id": "HIvZSzY2aAZk"
      },
      "source": [
        ""
      ],
      "execution_count": null,
      "outputs": []
    },
    {
      "cell_type": "code",
      "metadata": {
        "id": "cLLWOHSCyKkJ"
      },
      "source": [
        ""
      ],
      "execution_count": null,
      "outputs": []
    }
  ]
}