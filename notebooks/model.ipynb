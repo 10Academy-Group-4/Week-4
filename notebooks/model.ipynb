{
 "cells": [
  {
   "cell_type": "markdown",
   "metadata": {},
   "source": [
    "### Train model"
   ]
  },
  {
   "cell_type": "markdown",
   "metadata": {},
   "source": [
    "### Prepare train and valid data"
   ]
  },
  {
   "cell_type": "code",
   "execution_count": 3,
   "metadata": {},
   "outputs": [],
   "source": [
    "import sys  \n",
    "sys.path.insert(0, '../')\n",
    "\n",
    "from scripts.data_generator import make_audio_gen\n",
    "\n",
    "\n",
    "TRAIN_CORPUS = \"../data_st/train_corpus.json\"\n",
    "VALID_CORPUS = \"../data_st/valid_corpus.json\"\n",
    "MFCC_DIM = 13\n",
    "SPECTOGRAM = False\n",
    "EPOCHS = 13 # changed epoch from 2 to 10\n",
    "MODEL_NAME = \"model_1\"\n",
    "MINI_BATCH_SIZE = 40 #chamged size from 250 to 35\n",
    "SORT_BY_DURATION=False\n",
    "MAX_DURATION = 10.0\n",
    "\n",
    "audio_gen = make_audio_gen(TRAIN_CORPUS, VALID_CORPUS, spectrogram=False, mfcc_dim=MFCC_DIM,\n",
    "                           minibatch_size=MINI_BATCH_SIZE, sort_by_duration=SORT_BY_DURATION,\n",
    "                           max_duration=MAX_DURATION)\n",
    "# add the training data to the generator\n",
    "audio_gen.load_train_data()\n",
    "audio_gen.load_validation_data()"
   ]
  },
  {
   "cell_type": "markdown",
   "metadata": {},
   "source": [
    "### Run training"
   ]
  },
  {
   "cell_type": "code",
   "execution_count": 4,
   "metadata": {},
   "outputs": [
    {
     "name": "stdout",
     "output_type": "stream",
     "text": [
      "Model: \"model_2\"\n",
      "_________________________________________________________________\n",
      "Layer (type)                 Output Shape              Param #   \n",
      "=================================================================\n",
      "the_input (InputLayer)       [(None, None, 13)]        0         \n",
      "_________________________________________________________________\n",
      "layer_1_conv (Conv1D)        (None, None, 200)         28800     \n",
      "_________________________________________________________________\n",
      "conv_batch_norm (BatchNormal (None, None, 200)         800       \n",
      "_________________________________________________________________\n",
      "rnn_1 (GRU)                  (None, None, 250)         339000    \n",
      "_________________________________________________________________\n",
      "bt_rnn_1 (BatchNormalization (None, None, 250)         1000      \n",
      "_________________________________________________________________\n",
      "rnn_2 (GRU)                  (None, None, 250)         376500    \n",
      "_________________________________________________________________\n",
      "bt_rnn_2 (BatchNormalization (None, None, 250)         1000      \n",
      "_________________________________________________________________\n",
      "rnn_3 (GRU)                  (None, None, 250)         376500    \n",
      "_________________________________________________________________\n",
      "bt_rnn_3 (BatchNormalization (None, None, 250)         1000      \n",
      "_________________________________________________________________\n",
      "rnn_4 (GRU)                  (None, None, 250)         376500    \n",
      "_________________________________________________________________\n",
      "bt_rnn_4 (BatchNormalization (None, None, 250)         1000      \n",
      "_________________________________________________________________\n",
      "final_layer_of_rnn (GRU)     (None, None, 250)         376500    \n",
      "_________________________________________________________________\n",
      "bt_rnn_final (BatchNormaliza (None, None, 250)         1000      \n",
      "_________________________________________________________________\n",
      "time_distributed_1 (TimeDist (None, None, 55)          13805     \n",
      "_________________________________________________________________\n",
      "softmax (Activation)         (None, None, 55)          0         \n",
      "=================================================================\n",
      "Total params: 1,893,405\n",
      "Trainable params: 1,890,505\n",
      "Non-trainable params: 2,900\n",
      "_________________________________________________________________\n",
      "None\n"
     ]
    },
    {
     "name": "stderr",
     "output_type": "stream",
     "text": [
      "/home/nebiyu_sugamo/anaconda2/envs/speech/lib/python3.6/site-packages/keras/engine/training.py:1915: UserWarning: `Model.fit_generator` is deprecated and will be removed in a future version. Please use `Model.fit`, which supports generators.\n",
      "  warnings.warn('`Model.fit_generator` is deprecated and '\n",
      "2021/08/11 04:09:34 INFO mlflow.utils.autologging_utils: Created MLflow autologging run with ID '8533e3776df3497db45d1f9a99250553', which will track hyperparameters, performance metrics, model artifacts, and lineage information for the current keras workflow\n"
     ]
    },
    {
     "name": "stdout",
     "output_type": "stream",
     "text": [
      "boqa\n",
      "Epoch 1/15\n",
      "67/67 [==============================] - 185s 2s/step - loss: 215.0188 - val_loss: 159.5192\n",
      "Epoch 2/15\n",
      "67/67 [==============================] - 144s 2s/step - loss: 116.1381 - val_loss: 110.3269\n",
      "Epoch 3/15\n",
      "67/67 [==============================] - 145s 2s/step - loss: 94.8321 - val_loss: 102.5795\n",
      "Epoch 4/15\n",
      "67/67 [==============================] - 143s 2s/step - loss: 88.1002 - val_loss: 96.1547\n",
      "Epoch 5/15\n",
      "67/67 [==============================] - 145s 2s/step - loss: 84.3507 - val_loss: 89.9847\n",
      "Epoch 6/15\n",
      "67/67 [==============================] - 145s 2s/step - loss: 79.4310 - val_loss: 86.4032\n",
      "Epoch 7/15\n",
      "67/67 [==============================] - 146s 2s/step - loss: 78.0315 - val_loss: 85.5641\n",
      "Epoch 8/15\n",
      "67/67 [==============================] - 146s 2s/step - loss: 75.1770 - val_loss: 86.4032\n",
      "Epoch 9/15\n",
      "67/67 [==============================] - 146s 2s/step - loss: 73.8487 - val_loss: 83.1787\n",
      "Epoch 10/15\n",
      "67/67 [==============================] - 145s 2s/step - loss: 71.7756 - val_loss: 79.7079\n",
      "Epoch 11/15\n",
      "67/67 [==============================] - 146s 2s/step - loss: 70.7688 - val_loss: 79.2859\n",
      "Epoch 12/15\n",
      "67/67 [==============================] - 147s 2s/step - loss: 69.3689 - val_loss: 77.1941\n",
      "Epoch 13/15\n",
      "67/67 [==============================] - 147s 2s/step - loss: 66.9719 - val_loss: 78.2520\n",
      "Epoch 14/15\n",
      "67/67 [==============================] - 146s 2s/step - loss: 64.8502 - val_loss: 76.2967\n",
      "Epoch 15/15\n",
      "67/67 [==============================] - 146s 2s/step - loss: 63.9664 - val_loss: 75.0096\n"
     ]
    },
    {
     "name": "stderr",
     "output_type": "stream",
     "text": [
      "2021/08/11 04:46:40 WARNING mlflow.utils.autologging_utils: MLflow autologging encountered a warning: \"/home/nebiyu_sugamo/anaconda2/envs/speech/lib/python3.6/site-packages/mlflow/keras.py:680: UserWarning: Logging to MLflow failed: Unable to infer keras module from the model, please specify which keras module ('keras' or 'tensorflow.keras') is to be used to save and load the model.\"\n"
     ]
    }
   ],
   "source": [
    "import mlflow \n",
    "from scripts.train import train\n",
    "from scripts.models import model_1\n",
    "from scripts.char_map import char_map, index_map\n",
    "EPOCHS = 15\n",
    "MODEL_NAME = \"model_1\"\n",
    "model = model_1(input_dim=13,\n",
    "                filters=200,\n",
    "                kernel_size=11, \n",
    "                conv_stride=2,\n",
    "                conv_border_mode='valid',\n",
    "                units=250,\n",
    "                activation='relu',\n",
    "                dropout_rate=0.3,\n",
    "                number_of_layers=5,\n",
    "                output_dim=len(char_map)+1)\n",
    "\n",
    "train(audio_gen, input_to_softmax=model, model_name=MODEL_NAME, epochs=EPOCHS, minibatch_size=MINI_BATCH_SIZE)"
   ]
  },
  {
   "cell_type": "markdown",
   "metadata": {},
   "source": [
    "### Load saved model"
   ]
  },
  {
   "cell_type": "code",
   "execution_count": 5,
   "metadata": {},
   "outputs": [
    {
     "name": "stdout",
     "output_type": "stream",
     "text": [
      "Model: \"model_4\"\n",
      "_________________________________________________________________\n",
      "Layer (type)                 Output Shape              Param #   \n",
      "=================================================================\n",
      "the_input (InputLayer)       [(None, None, 13)]        0         \n",
      "_________________________________________________________________\n",
      "layer_1_conv (Conv1D)        (None, None, 200)         28800     \n",
      "_________________________________________________________________\n",
      "conv_batch_norm (BatchNormal (None, None, 200)         800       \n",
      "_________________________________________________________________\n",
      "rnn_1 (GRU)                  (None, None, 250)         339000    \n",
      "_________________________________________________________________\n",
      "bt_rnn_1 (BatchNormalization (None, None, 250)         1000      \n",
      "_________________________________________________________________\n",
      "rnn_2 (GRU)                  (None, None, 250)         376500    \n",
      "_________________________________________________________________\n",
      "bt_rnn_2 (BatchNormalization (None, None, 250)         1000      \n",
      "_________________________________________________________________\n",
      "rnn_3 (GRU)                  (None, None, 250)         376500    \n",
      "_________________________________________________________________\n",
      "bt_rnn_3 (BatchNormalization (None, None, 250)         1000      \n",
      "_________________________________________________________________\n",
      "rnn_4 (GRU)                  (None, None, 250)         376500    \n",
      "_________________________________________________________________\n",
      "bt_rnn_4 (BatchNormalization (None, None, 250)         1000      \n",
      "_________________________________________________________________\n",
      "final_layer_of_rnn (GRU)     (None, None, 250)         376500    \n",
      "_________________________________________________________________\n",
      "bt_rnn_final (BatchNormaliza (None, None, 250)         1000      \n",
      "_________________________________________________________________\n",
      "time_distributed_2 (TimeDist (None, None, 55)          13805     \n",
      "_________________________________________________________________\n",
      "softmax (Activation)         (None, None, 55)          0         \n",
      "=================================================================\n",
      "Total params: 1,893,405\n",
      "Trainable params: 1,890,505\n",
      "Non-trainable params: 2,900\n",
      "_________________________________________________________________\n",
      "None\n"
     ]
    }
   ],
   "source": [
    "from scripts.char_map import char_map, index_map\n",
    "from scripts.models import model_1\n",
    "\n",
    "model = model_1(input_dim=13,\n",
    "                filters=200,\n",
    "                kernel_size=11, \n",
    "                conv_stride=2,\n",
    "                conv_border_mode='valid',\n",
    "                units=250,\n",
    "                activation='relu',\n",
    "                dropout_rate=0.5,\n",
    "                number_of_layers=5,\n",
    "                output_dim=len(char_map)+1)\n",
    "model_name = \"model_1\"\n",
    "model.load_weights('../models/' + model_name + '.h5')"
   ]
  },
  {
   "cell_type": "markdown",
   "metadata": {},
   "source": [
    "### Loss"
   ]
  },
  {
   "cell_type": "code",
   "execution_count": 6,
   "metadata": {},
   "outputs": [
    {
     "name": "stderr",
     "output_type": "stream",
     "text": [
      "2021/08/11 04:47:42 WARNING mlflow.utils.autologging_utils: You are using an unsupported version of keras. If you encounter errors during autologging, try upgrading / downgrading keras to a supported version, or try upgrading MLflow.\n"
     ]
    },
    {
     "data": {
      "image/png": "[encoded data removed]",
      "text/plain": [
       "<Figure size 432x288 with 1 Axes>"
      ]
     },
     "metadata": {},
     "output_type": "display_data"
    }
   ],
   "source": [
    "from scripts.plot import plot_hist\n",
    "%matplotlib inline\n",
    "model_name = \"model_1\"\n",
    "plot_hist(model_name)"
   ]
  },
  {
   "cell_type": "code",
   "execution_count": null,
   "metadata": {},
   "outputs": [],
   "source": []
  }
 ],
 "metadata": {
  "interpreter": {
   "hash": "4ab5a2832eb0be5b68fbf5e83fe8dee09bfad95a64fe37292120474b4c676495"
  },
  "kernelspec": {
   "display_name": "Python 3.6.2 64-bit ('speech': conda)",
   "name": "python3"
  },
  "language_info": {
   "codemirror_mode": {
    "name": "ipython",
    "version": 3
   },
   "file_extension": ".py",
   "mimetype": "text/x-python",
   "name": "python",
   "nbconvert_exporter": "python",
   "pygments_lexer": "ipython3",
   "version": "3.6.2"
  },
  "orig_nbformat": 4
 },
 "nbformat": 4,
 "nbformat_minor": 2
}