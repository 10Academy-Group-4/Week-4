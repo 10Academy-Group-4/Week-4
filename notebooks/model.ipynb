{
 "cells": [
  {
   "cell_type": "markdown",
   "metadata": {},
   "source": [
    "### Train model"
   ]
  },
  {
   "cell_type": "markdown",
   "metadata": {},
   "source": [
    "### Prepare train and valid data"
   ]
  },
  {
   "cell_type": "code",
   "execution_count": 9,
   "metadata": {},
   "outputs": [],
   "source": [
    "import sys  \n",
    "sys.path.insert(0, '../')\n",
    "\n",
    "from scripts.data_generator import make_audio_gen\n",
    "\n",
    "\n",
    "TRAIN_CORPUS = \"../data_st/train_corpus.json\"\n",
    "VALID_CORPUS = \"../data_st/valid_corpus.json\"\n",
    "MFCC_DIM = 13\n",
    "SPECTOGRAM = False\n",
    "EPOCHS = 10 # changed epoch from 2 to 10\n",
    "MODEL_NAME = \"model_2\"\n",
    "MINI_BATCH_SIZE = 35 #chamged size from 250 to 35\n",
    "SORT_BY_DURATION=False\n",
    "MAX_DURATION = 10.0\n",
    "\n",
    "audio_gen = make_audio_gen(TRAIN_CORPUS, VALID_CORPUS, spectrogram=False, mfcc_dim=MFCC_DIM,\n",
    "                           minibatch_size=MINI_BATCH_SIZE, sort_by_duration=SORT_BY_DURATION,\n",
    "                           max_duration=MAX_DURATION)\n",
    "# add the training data to the generator\n",
    "audio_gen.load_train_data()\n",
    "audio_gen.load_validation_data()"
   ]
  },
  {
   "cell_type": "markdown",
   "metadata": {},
   "source": [
    "### Run training"
   ]
  },
  {
   "cell_type": "code",
   "execution_count": 2,
   "metadata": {},
   "outputs": [
    {
     "name": "stderr",
     "output_type": "stream",
     "text": [
      "2021/08/09 16:02:40 WARNING mlflow.utils.autologging_utils: You are using an unsupported version of keras. If you encounter errors during autologging, try upgrading / downgrading keras to a supported version, or try upgrading MLflow.\n",
      "/home/nebiyu_sugamo/anaconda2/envs/speech/lib/python3.6/site-packages/tensorflow/python/keras/optimizer_v2/optimizer_v2.py:375: UserWarning: The `lr` argument is deprecated, use `learning_rate` instead.\n",
      "  \"The `lr` argument is deprecated, use `learning_rate` instead.\")\n"
     ]
    },
    {
     "name": "stdout",
     "output_type": "stream",
     "text": [
      "Model: \"model\"\n",
      "_________________________________________________________________\n",
      "Layer (type)                 Output Shape              Param #   \n",
      "=================================================================\n",
      "the_input (InputLayer)       [(None, None, 13)]        0         \n",
      "_________________________________________________________________\n",
      "layer_1_conv (Conv1D)        (None, None, 200)         28800     \n",
      "_________________________________________________________________\n",
      "conv_batch_norm (BatchNormal (None, None, 200)         800       \n",
      "_________________________________________________________________\n",
      "rnn_1 (GRU)                  (None, None, 250)         339000    \n",
      "_________________________________________________________________\n",
      "bt_rnn_1 (BatchNormalization (None, None, 250)         1000      \n",
      "_________________________________________________________________\n",
      "rnn_2 (GRU)                  (None, None, 250)         376500    \n",
      "_________________________________________________________________\n",
      "bt_rnn_2 (BatchNormalization (None, None, 250)         1000      \n",
      "_________________________________________________________________\n",
      "rnn_3 (GRU)                  (None, None, 250)         376500    \n",
      "_________________________________________________________________\n",
      "bt_rnn_3 (BatchNormalization (None, None, 250)         1000      \n",
      "_________________________________________________________________\n",
      "rnn_4 (GRU)                  (None, None, 250)         376500    \n",
      "_________________________________________________________________\n",
      "bt_rnn_4 (BatchNormalization (None, None, 250)         1000      \n",
      "_________________________________________________________________\n",
      "final_layer_of_rnn (GRU)     (None, None, 250)         376500    \n",
      "_________________________________________________________________\n",
      "bt_rnn_final (BatchNormaliza (None, None, 250)         1000      \n",
      "_________________________________________________________________\n",
      "time_distributed (TimeDistri (None, None, 55)          13805     \n",
      "_________________________________________________________________\n",
      "softmax (Activation)         (None, None, 55)          0         \n",
      "=================================================================\n",
      "Total params: 1,893,405\n",
      "Trainable params: 1,890,505\n",
      "Non-trainable params: 2,900\n",
      "_________________________________________________________________\n",
      "None\n"
     ]
    },
    {
     "name": "stderr",
     "output_type": "stream",
     "text": [
      "/home/nebiyu_sugamo/anaconda2/envs/speech/lib/python3.6/site-packages/keras/engine/training.py:1915: UserWarning: `Model.fit_generator` is deprecated and will be removed in a future version. Please use `Model.fit`, which supports generators.\n",
      "  warnings.warn('`Model.fit_generator` is deprecated and '\n",
      "2021/08/09 16:02:41 INFO mlflow.utils.autologging_utils: Created MLflow autologging run with ID 'aac96d43a404490da09c78240be41934', which will track hyperparameters, performance metrics, model artifacts, and lineage information for the current keras workflow\n"
     ]
    },
    {
     "name": "stdout",
     "output_type": "stream",
     "text": [
      "Epoch 1/20\n",
      "50/50 [==============================] - 152s 2s/step - loss: 226.8102 - val_loss: 152.1749\n",
      "Epoch 2/20\n",
      "50/50 [==============================] - 102s 2s/step - loss: 131.7460 - val_loss: 140.8991\n",
      "Epoch 3/20\n",
      "50/50 [==============================] - 102s 2s/step - loss: 109.9974 - val_loss: 119.6109\n",
      "Epoch 4/20\n",
      "50/50 [==============================] - 102s 2s/step - loss: 104.6727 - val_loss: 107.9589\n",
      "Epoch 5/20\n",
      "50/50 [==============================] - 103s 2s/step - loss: 100.5934 - val_loss: 102.0113\n",
      "Epoch 6/20\n",
      "50/50 [==============================] - 101s 2s/step - loss: 94.8151 - val_loss: 94.9694\n",
      "Epoch 7/20\n",
      "50/50 [==============================] - 103s 2s/step - loss: 91.6851 - val_loss: 91.2940\n",
      "Epoch 8/20\n",
      "50/50 [==============================] - 103s 2s/step - loss: 89.3117 - val_loss: 90.1911\n",
      "Epoch 9/20\n",
      "50/50 [==============================] - 101s 2s/step - loss: 88.5649 - val_loss: 87.1556\n",
      "Epoch 10/20\n",
      "50/50 [==============================] - 102s 2s/step - loss: 85.4983 - val_loss: 90.2617\n",
      "Epoch 11/20\n",
      "50/50 [==============================] - 102s 2s/step - loss: 84.3349 - val_loss: 84.1597\n",
      "Epoch 12/20\n",
      "50/50 [==============================] - 102s 2s/step - loss: 82.2687 - val_loss: 83.5682\n",
      "Epoch 13/20\n",
      "50/50 [==============================] - 104s 2s/step - loss: 83.3383 - val_loss: 84.3916\n",
      "Epoch 14/20\n",
      "50/50 [==============================] - 103s 2s/step - loss: 80.9135 - val_loss: 80.4803\n",
      "Epoch 15/20\n",
      "50/50 [==============================] - 103s 2s/step - loss: 80.0875 - val_loss: 83.0931\n",
      "Epoch 16/20\n",
      "50/50 [==============================] - 104s 2s/step - loss: 78.8495 - val_loss: 82.1451\n",
      "Epoch 17/20\n",
      "50/50 [==============================] - 101s 2s/step - loss: 78.8023 - val_loss: 81.4830\n",
      "Epoch 18/20\n",
      "50/50 [==============================] - 103s 2s/step - loss: 76.4470 - val_loss: 79.8356\n",
      "Epoch 19/20\n",
      "50/50 [==============================] - 104s 2s/step - loss: 77.2910 - val_loss: 80.2504\n",
      "Epoch 20/20\n",
      "50/50 [==============================] - 102s 2s/step - loss: 74.9749 - val_loss: 80.8418\n"
     ]
    },
    {
     "name": "stderr",
     "output_type": "stream",
     "text": [
      "2021/08/09 16:37:45 WARNING mlflow.utils.autologging_utils: MLflow autologging encountered a warning: \"/home/nebiyu_sugamo/anaconda2/envs/speech/lib/python3.6/site-packages/mlflow/keras.py:680: UserWarning: Logging to MLflow failed: Unable to infer keras module from the model, please specify which keras module ('keras' or 'tensorflow.keras') is to be used to save and load the model.\"\n"
     ]
    }
   ],
   "source": [
    "import mlflow \n",
    "from scripts.train import train\n",
    "from scripts.models import model_1\n",
    "from scripts.char_map import char_map, index_map\n",
    "EPOCHS = 20\n",
    "MODEL_NAME = \"model_1\"\n",
    "model = model_1(input_dim=13,\n",
    "                filters=200,\n",
    "                kernel_size=11, \n",
    "                conv_stride=2,\n",
    "                conv_border_mode='valid',\n",
    "                units=250,\n",
    "                activation='relu',\n",
    "                dropout_rate=0.5,\n",
    "                number_of_layers=5,\n",
    "                output_dim=len(char_map)+1)\n",
    "                \n",
    "train(audio_gen, input_to_softmax=model, model_name=MODEL_NAME, epochs=EPOCHS, minibatch_size=MINI_BATCH_SIZE)"
   ]
  },
  {
   "cell_type": "markdown",
   "metadata": {},
   "source": [
    "### Load saved model"
   ]
  },
  {
   "cell_type": "code",
   "execution_count": 3,
   "metadata": {},
   "outputs": [
    {
     "name": "stdout",
     "output_type": "stream",
     "text": [
      "Model: \"model_2\"\n",
      "_________________________________________________________________\n",
      "Layer (type)                 Output Shape              Param #   \n",
      "=================================================================\n",
      "the_input (InputLayer)       [(None, None, 13)]        0         \n",
      "_________________________________________________________________\n",
      "layer_1_conv (Conv1D)        (None, None, 200)         28800     \n",
      "_________________________________________________________________\n",
      "conv_batch_norm (BatchNormal (None, None, 200)         800       \n",
      "_________________________________________________________________\n",
      "rnn_1 (GRU)                  (None, None, 250)         339000    \n",
      "_________________________________________________________________\n",
      "bt_rnn_1 (BatchNormalization (None, None, 250)         1000      \n",
      "_________________________________________________________________\n",
      "rnn_2 (GRU)                  (None, None, 250)         376500    \n",
      "_________________________________________________________________\n",
      "bt_rnn_2 (BatchNormalization (None, None, 250)         1000      \n",
      "_________________________________________________________________\n",
      "rnn_3 (GRU)                  (None, None, 250)         376500    \n",
      "_________________________________________________________________\n",
      "bt_rnn_3 (BatchNormalization (None, None, 250)         1000      \n",
      "_________________________________________________________________\n",
      "rnn_4 (GRU)                  (None, None, 250)         376500    \n",
      "_________________________________________________________________\n",
      "bt_rnn_4 (BatchNormalization (None, None, 250)         1000      \n",
      "_________________________________________________________________\n",
      "final_layer_of_rnn (GRU)     (None, None, 250)         376500    \n",
      "_________________________________________________________________\n",
      "bt_rnn_final (BatchNormaliza (None, None, 250)         1000      \n",
      "_________________________________________________________________\n",
      "time_distributed_1 (TimeDist (None, None, 55)          13805     \n",
      "_________________________________________________________________\n",
      "softmax (Activation)         (None, None, 55)          0         \n",
      "=================================================================\n",
      "Total params: 1,893,405\n",
      "Trainable params: 1,890,505\n",
      "Non-trainable params: 2,900\n",
      "_________________________________________________________________\n",
      "None\n"
     ]
    }
   ],
   "source": [
    "from scripts.char_map import char_map, index_map\n",
    "from scripts.models import model_1\n",
    "\n",
    "model = model_1(input_dim=13,\n",
    "                filters=200,\n",
    "                kernel_size=11, \n",
    "                conv_stride=2,\n",
    "                conv_border_mode='valid',\n",
    "                units=250,\n",
    "                activation='relu',\n",
    "                dropout_rate=0.5,\n",
    "                number_of_layers=5,\n",
    "                output_dim=len(char_map)+1)\n",
    "model_name = \"model_1\"\n",
    "model.load_weights('../models/' + model_name + '.h5')"
   ]
  },
  {
   "cell_type": "markdown",
   "metadata": {},
   "source": [
    "### Loss"
   ]
  },
  {
   "cell_type": "code",
   "execution_count": 11,
   "metadata": {},
   "outputs": [
    {
     "name": "stderr",
     "output_type": "stream",
     "text": [
      "2021/08/09 16:51:21 WARNING mlflow.utils.autologging_utils: You are using an unsupported version of keras. If you encounter errors during autologging, try upgrading / downgrading keras to a supported version, or try upgrading MLflow.\n"
     ]
    },
    {
     "data": {
      "image/png": "[encoded data removed]",
      "text/plain": [
       "<Figure size 432x288 with 1 Axes>"
      ]
     },
     "metadata": {},
     "output_type": "display_data"
    }
   ],
   "source": [
    "from scripts.plot import plot_hist\n",
    "%matplotlib inline\n",
    "model_name = \"model_1\"\n",
    "plot_hist(model_name)"
   ]
  }
 ],
 "metadata": {
  "interpreter": {
   "hash": "4ab5a2832eb0be5b68fbf5e83fe8dee09bfad95a64fe37292120474b4c676495"
  },
  "kernelspec": {
   "display_name": "Python 3.6.2 64-bit ('speech': conda)",
   "name": "python3"
  },
  "language_info": {
   "codemirror_mode": {
    "name": "ipython",
    "version": 3
   },
   "file_extension": ".py",
   "mimetype": "text/x-python",
   "name": "python",
   "nbconvert_exporter": "python",
   "pygments_lexer": "ipython3",
   "version": "3.6.2"
  },
  "orig_nbformat": 4
 },
 "nbformat": 4,
 "nbformat_minor": 2
}