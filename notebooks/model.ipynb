{
 "cells": [
  {
   "cell_type": "markdown",
   "metadata": {},
   "source": [
    "### Train model"
   ]
  },
  {
   "cell_type": "markdown",
   "metadata": {},
   "source": [
    "### Prepare train and valid data"
   ]
  },
  {
   "cell_type": "code",
   "execution_count": 1,
   "metadata": {},
   "outputs": [],
   "source": [
    "import sys  \n",
    "sys.path.insert(0, '../')\n",
    "\n",
    "from scripts.data_generator import make_audio_gen\n",
    "\n",
    "\n",
    "TRAIN_CORPUS = \"../data_st/train_corpus.json\"\n",
    "VALID_CORPUS = \"../data_st/valid_corpus.json\"\n",
    "MFCC_DIM = 13\n",
    "SPECTOGRAM = False\n",
    "EPOCHS = 10 # changed epoch from 2 to 10\n",
    "MODEL_NAME = \"model_2\"\n",
    "MINI_BATCH_SIZE = 35 #chamged size from 250 to 10\n",
    "SORT_BY_DURATION=False\n",
    "MAX_DURATION = 10.0\n",
    "\n",
    "audio_gen = make_audio_gen(TRAIN_CORPUS, VALID_CORPUS, spectrogram=False, mfcc_dim=MFCC_DIM,\n",
    "                           minibatch_size=MINI_BATCH_SIZE, sort_by_duration=SORT_BY_DURATION,\n",
    "                           max_duration=MAX_DURATION)\n",
    "# add the training data to the generator\n",
    "audio_gen.load_train_data()\n",
    "audio_gen.load_validation_data()"
   ]
  },
  {
   "cell_type": "markdown",
   "metadata": {},
   "source": [
    "### Run training"
   ]
  },
  {
   "cell_type": "code",
   "execution_count": 2,
   "metadata": {},
   "outputs": [
    {
     "name": "stderr",
     "output_type": "stream",
     "text": [
      "/home/nebiyu_sugamo/anaconda2/envs/speech/lib/python3.6/site-packages/tensorflow/python/keras/optimizer_v2/optimizer_v2.py:375: UserWarning: The `lr` argument is deprecated, use `learning_rate` instead.\n",
      "  \"The `lr` argument is deprecated, use `learning_rate` instead.\")\n"
     ]
    },
    {
     "name": "stdout",
     "output_type": "stream",
     "text": [
      "Model: \"model\"\n",
      "_________________________________________________________________\n",
      "Layer (type)                 Output Shape              Param #   \n",
      "=================================================================\n",
      "the_input (InputLayer)       [(None, None, 13)]        0         \n",
      "_________________________________________________________________\n",
      "layer_1_conv (Conv1D)        (None, None, 200)         28800     \n",
      "_________________________________________________________________\n",
      "conv_batch_norm (BatchNormal (None, None, 200)         800       \n",
      "_________________________________________________________________\n",
      "rnn_1 (GRU)                  (None, None, 250)         339000    \n",
      "_________________________________________________________________\n",
      "bt_rnn_1 (BatchNormalization (None, None, 250)         1000      \n",
      "_________________________________________________________________\n",
      "rnn_2 (GRU)                  (None, None, 250)         376500    \n",
      "_________________________________________________________________\n",
      "bt_rnn_2 (BatchNormalization (None, None, 250)         1000      \n",
      "_________________________________________________________________\n",
      "rnn_3 (GRU)                  (None, None, 250)         376500    \n",
      "_________________________________________________________________\n",
      "bt_rnn_3 (BatchNormalization (None, None, 250)         1000      \n",
      "_________________________________________________________________\n",
      "rnn_4 (GRU)                  (None, None, 250)         376500    \n",
      "_________________________________________________________________\n",
      "bt_rnn_4 (BatchNormalization (None, None, 250)         1000      \n",
      "_________________________________________________________________\n",
      "final_layer_of_rnn (GRU)     (None, None, 250)         376500    \n",
      "_________________________________________________________________\n",
      "bt_rnn_final (BatchNormaliza (None, None, 250)         1000      \n",
      "_________________________________________________________________\n",
      "time_distributed (TimeDistri (None, None, 55)          13805     \n",
      "_________________________________________________________________\n",
      "softmax (Activation)         (None, None, 55)          0         \n",
      "=================================================================\n",
      "Total params: 1,893,405\n",
      "Trainable params: 1,890,505\n",
      "Non-trainable params: 2,900\n",
      "_________________________________________________________________\n",
      "None\n"
     ]
    },
    {
     "name": "stderr",
     "output_type": "stream",
     "text": [
      "/home/nebiyu_sugamo/anaconda2/envs/speech/lib/python3.6/site-packages/keras/engine/training.py:1915: UserWarning: `Model.fit_generator` is deprecated and will be removed in a future version. Please use `Model.fit`, which supports generators.\n",
      "  warnings.warn('`Model.fit_generator` is deprecated and '\n"
     ]
    },
    {
     "name": "stdout",
     "output_type": "stream",
     "text": [
      "Epoch 1/20\n",
      "50/50 [==============================] - 140s 2s/step - loss: 228.7245 - val_loss: 152.3295\n",
      "Epoch 2/20\n",
      "50/50 [==============================] - 104s 2s/step - loss: 133.8790 - val_loss: 143.2580\n",
      "Epoch 3/20\n",
      "50/50 [==============================] - 103s 2s/step - loss: 111.8542 - val_loss: 124.7199\n",
      "Epoch 4/20\n",
      "50/50 [==============================] - 103s 2s/step - loss: 103.6832 - val_loss: 106.3587\n",
      "Epoch 5/20\n",
      "50/50 [==============================] - 103s 2s/step - loss: 97.7731 - val_loss: 99.5081\n",
      "Epoch 6/20\n",
      "50/50 [==============================] - 103s 2s/step - loss: 94.8358 - val_loss: 95.5110\n",
      "Epoch 7/20\n",
      "50/50 [==============================] - 104s 2s/step - loss: 92.5685 - val_loss: 92.5397\n",
      "Epoch 8/20\n",
      "50/50 [==============================] - 103s 2s/step - loss: 89.3674 - val_loss: 90.8747\n",
      "Epoch 9/20\n",
      "50/50 [==============================] - 104s 2s/step - loss: 90.1755 - val_loss: 85.9397\n",
      "Epoch 10/20\n",
      "50/50 [==============================] - 104s 2s/step - loss: 85.7173 - val_loss: 121.1371\n",
      "Epoch 11/20\n",
      "50/50 [==============================] - 102s 2s/step - loss: 86.2896 - val_loss: 86.6969\n",
      "Epoch 12/20\n",
      "50/50 [==============================] - 104s 2s/step - loss: 85.0081 - val_loss: 85.6954\n",
      "Epoch 13/20\n",
      "50/50 [==============================] - 103s 2s/step - loss: 83.8015 - val_loss: 83.7566\n",
      "Epoch 14/20\n",
      "50/50 [==============================] - 103s 2s/step - loss: 80.8206 - val_loss: 82.1434\n",
      "Epoch 15/20\n",
      "50/50 [==============================] - 105s 2s/step - loss: 79.9104 - val_loss: 82.1644\n",
      "Epoch 16/20\n",
      "50/50 [==============================] - 102s 2s/step - loss: 79.1544 - val_loss: 82.2288\n",
      "Epoch 17/20\n",
      "50/50 [==============================] - 103s 2s/step - loss: 80.2804 - val_loss: 83.5376\n",
      "Epoch 18/20\n",
      "50/50 [==============================] - 103s 2s/step - loss: 79.9652 - val_loss: 81.0084\n",
      "Epoch 19/20\n",
      "50/50 [==============================] - 102s 2s/step - loss: 77.7441 - val_loss: 79.9045\n",
      "Epoch 20/20\n",
      "50/50 [==============================] - 102s 2s/step - loss: 77.0569 - val_loss: 82.5608\n"
     ]
    }
   ],
   "source": [
    "from scripts.train import train\n",
    "from scripts.models import model_1\n",
    "from scripts.char_map import char_map, index_map\n",
    "EPOCHS = 20\n",
    "MODEL_NAME = \"model_1\"\n",
    "model = model_1(input_dim=13,\n",
    "                filters=200,\n",
    "                kernel_size=11, \n",
    "                conv_stride=2,\n",
    "                conv_border_mode='valid',\n",
    "                units=250,\n",
    "                activation='relu',\n",
    "                dropout_rate=0.5,\n",
    "                number_of_layers=5,\n",
    "                output_dim=len(char_map)+1)\n",
    "\n",
    "train(audio_gen, input_to_softmax=model, model_name=MODEL_NAME, epochs=EPOCHS, minibatch_size=MINI_BATCH_SIZE)"
   ]
  },
  {
   "cell_type": "markdown",
   "metadata": {},
   "source": [
    "### Load saved model"
   ]
  },
  {
   "cell_type": "code",
   "execution_count": 5,
   "metadata": {},
   "outputs": [
    {
     "name": "stdout",
     "output_type": "stream",
     "text": [
      "Model: \"model_2\"\n",
      "_________________________________________________________________\n",
      "Layer (type)                 Output Shape              Param #   \n",
      "=================================================================\n",
      "the_input (InputLayer)       [(None, None, 13)]        0         \n",
      "_________________________________________________________________\n",
      "layer_1_conv (Conv1D)        (None, None, 200)         28800     \n",
      "_________________________________________________________________\n",
      "conv_batch_norm (BatchNormal (None, None, 200)         800       \n",
      "_________________________________________________________________\n",
      "rnn_1 (GRU)                  (None, None, 250)         339000    \n",
      "_________________________________________________________________\n",
      "bt_rnn_1 (BatchNormalization (None, None, 250)         1000      \n",
      "_________________________________________________________________\n",
      "rnn_2 (GRU)                  (None, None, 250)         376500    \n",
      "_________________________________________________________________\n",
      "bt_rnn_2 (BatchNormalization (None, None, 250)         1000      \n",
      "_________________________________________________________________\n",
      "rnn_3 (GRU)                  (None, None, 250)         376500    \n",
      "_________________________________________________________________\n",
      "bt_rnn_3 (BatchNormalization (None, None, 250)         1000      \n",
      "_________________________________________________________________\n",
      "rnn_4 (GRU)                  (None, None, 250)         376500    \n",
      "_________________________________________________________________\n",
      "bt_rnn_4 (BatchNormalization (None, None, 250)         1000      \n",
      "_________________________________________________________________\n",
      "final_layer_of_rnn (GRU)     (None, None, 250)         376500    \n",
      "_________________________________________________________________\n",
      "bt_rnn_final (BatchNormaliza (None, None, 250)         1000      \n",
      "_________________________________________________________________\n",
      "time_distributed_1 (TimeDist (None, None, 55)          13805     \n",
      "_________________________________________________________________\n",
      "softmax (Activation)         (None, None, 55)          0         \n",
      "=================================================================\n",
      "Total params: 1,893,405\n",
      "Trainable params: 1,890,505\n",
      "Non-trainable params: 2,900\n",
      "_________________________________________________________________\n",
      "None\n"
     ]
    }
   ],
   "source": [
    "from scripts.char_map import char_map, index_map\n",
    "from scripts.models import model_1\n",
    "\n",
    "model = model_1(input_dim=13,\n",
    "                filters=200,\n",
    "                kernel_size=11, \n",
    "                conv_stride=2,\n",
    "                conv_border_mode='valid',\n",
    "                units=250,\n",
    "                activation='relu',\n",
    "                dropout_rate=1,\n",
    "                number_of_layers=5,\n",
    "                output_dim=len(char_map)+1)\n",
    "model_name = \"model_1\"\n",
    "model.load_weights('models/' + model_name + '.h5')"
   ]
  },
  {
   "cell_type": "markdown",
   "metadata": {},
   "source": []
  },
  {
   "cell_type": "code",
   "execution_count": null,
   "metadata": {},
   "outputs": [],
   "source": [
    "from scripts.plot import plot_hist\n",
    "\n",
    "model_name = \"model_2\"\n",
    "plot_hist(model_name)"
   ]
  }
 ],
 "metadata": {
  "interpreter": {
   "hash": "916dbcbb3f70747c44a77c7bcd40155683ae19c65e1c03b4aa3499c5328201f1"
  },
  "kernelspec": {
   "display_name": "Python 3.7.10 64-bit",
   "name": "python3"
  },
  "language_info": {
   "codemirror_mode": {
    "name": "ipython",
    "version": 3
   },
   "file_extension": ".py",
   "mimetype": "text/x-python",
   "name": "python",
   "nbconvert_exporter": "python",
   "pygments_lexer": "ipython3",
   "version": "3.6.2"
  },
  "orig_nbformat": 4
 },
 "nbformat": 4,
 "nbformat_minor": 2
}