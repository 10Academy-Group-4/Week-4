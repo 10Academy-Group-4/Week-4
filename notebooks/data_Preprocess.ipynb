{
  "cells": [
    {
      "cell_type": "code",
      "execution_count": 1,
      "metadata": {
        "id": "yehqW-ZTecYZ"
      },
      "outputs": [],
      "source": [
        "import math, random\n",
        "import torch\n",
        "import torchaudio\n",
        "from torchaudio import transforms\n",
        "from IPython.display import Audio\n",
        "import matplotlib.pyplot as plt\n",
        "import IPython.display as ipd\n",
        "import librosa\n",
        "import librosa.display\n",
        "import numpy as np\n",
        "import glob\n",
        "import os\n",
        "import pandas as pd\n",
        "import traceback\n",
        "import numpy as np\n",
        "from tqdm import tqdm\n",
        "import pandas as pd"
      ]
    },
    {
      "cell_type": "code",
      "execution_count": 2,
      "metadata": {
        "id": "4KiHTzGufBly"
      },
      "outputs": [],
      "source": [
        "import sys, os\n",
        "sys.path.append(os.path.abspath(os.path.join('../scripts')))\n",
        "from Metadata import MetaCreate\n",
        "from Audio_preprocess import AudioUtil\n"
      ]
    },
    {
      "cell_type": "code",
      "execution_count": 3,
      "metadata": {
        "id": "4D7kuXs9fKlo"
      },
      "outputs": [],
      "source": [
        "meta=MetaCreate()\n",
        "meta_data=meta.generate_meta_data()"
      ]
    },
    {
      "cell_type": "code",
      "execution_count": 7,
      "metadata": {
        "colab": {
          "base_uri": "https://localhost:8080/",
          "height": 374
        },
        "id": "a-7f9MlJhEPF",
        "outputId": "49400fa9-c1ca-4e62-ce41-58a26c56b625"
      },
      "outputs": [
        {
          "data": {
            "text/html": [
              "<div>\n",
              "<style scoped>\n",
              "    .dataframe tbody tr th:only-of-type {\n",
              "        vertical-align: middle;\n",
              "    }\n",
              "\n",
              "    .dataframe tbody tr th {\n",
              "        vertical-align: top;\n",
              "    }\n",
              "\n",
              "    .dataframe thead th {\n",
              "        text-align: right;\n",
              "    }\n",
              "</style>\n",
              "<table border=\"1\" class=\"dataframe\">\n",
              "  <thead>\n",
              "    <tr style=\"text-align: right;\">\n",
              "      <th></th>\n",
              "      <th>file</th>\n",
              "      <th>text</th>\n",
              "      <th>path</th>\n",
              "      <th>sample_rate</th>\n",
              "      <th>channels</th>\n",
              "      <th>duration</th>\n",
              "    </tr>\n",
              "  </thead>\n",
              "  <tbody>\n",
              "    <tr>\n",
              "      <th>0</th>\n",
              "      <td>SWH-05-20101106_16k-emission_swahili_05h30_-_0...</td>\n",
              "      <td>yanayo andaliwa nami pendo pondo idhaa ya kisw...</td>\n",
              "      <td>../data/train/wav/SWH-05-20101106/SWH-05-20101...</td>\n",
              "      <td>16000</td>\n",
              "      <td>1</td>\n",
              "      <td>3.10</td>\n",
              "    </tr>\n",
              "    <tr>\n",
              "      <th>1</th>\n",
              "      <td>SWH-05-20101106_16k-emission_swahili_05h30_-_0...</td>\n",
              "      <td>inayokutangazia moja kwa moja kutoka jijini da...</td>\n",
              "      <td>../data/train/wav/SWH-05-20101106/SWH-05-20101...</td>\n",
              "      <td>16000</td>\n",
              "      <td>1</td>\n",
              "      <td>3.65</td>\n",
              "    </tr>\n",
              "    <tr>\n",
              "      <th>2</th>\n",
              "      <td>SWH-05-20101106_16k-emission_swahili_05h30_-_0...</td>\n",
              "      <td>juma hili bara la afrika limeshuhudia raia wa ...</td>\n",
              "      <td>../data/train/wav/SWH-05-20101106/SWH-05-20101...</td>\n",
              "      <td>16000</td>\n",
              "      <td>1</td>\n",
              "      <td>3.90</td>\n",
              "    </tr>\n",
              "    <tr>\n",
              "      <th>3</th>\n",
              "      <td>SWH-05-20101106_16k-emission_swahili_05h30_-_0...</td>\n",
              "      <td>wakipiga kura ya maoni ilikufanya mabadiliko ya</td>\n",
              "      <td>../data/train/wav/SWH-05-20101106/SWH-05-20101...</td>\n",
              "      <td>16000</td>\n",
              "      <td>1</td>\n",
              "      <td>2.94</td>\n",
              "    </tr>\n",
              "    <tr>\n",
              "      <th>4</th>\n",
              "      <td>SWH-05-20101106_16k-emission_swahili_05h30_-_0...</td>\n",
              "      <td>kule abidjan raia wa jiji hilo</td>\n",
              "      <td>../data/train/wav/SWH-05-20101106/SWH-05-20101...</td>\n",
              "      <td>16000</td>\n",
              "      <td>1</td>\n",
              "      <td>2.45</td>\n",
              "    </tr>\n",
              "  </tbody>\n",
              "</table>\n",
              "</div>"
            ],
            "text/plain": [
              "                                                file  \\\n",
              "0  SWH-05-20101106_16k-emission_swahili_05h30_-_0...   \n",
              "1  SWH-05-20101106_16k-emission_swahili_05h30_-_0...   \n",
              "2  SWH-05-20101106_16k-emission_swahili_05h30_-_0...   \n",
              "3  SWH-05-20101106_16k-emission_swahili_05h30_-_0...   \n",
              "4  SWH-05-20101106_16k-emission_swahili_05h30_-_0...   \n",
              "\n",
              "                                                text  \\\n",
              "0  yanayo andaliwa nami pendo pondo idhaa ya kisw...   \n",
              "1  inayokutangazia moja kwa moja kutoka jijini da...   \n",
              "2  juma hili bara la afrika limeshuhudia raia wa ...   \n",
              "3    wakipiga kura ya maoni ilikufanya mabadiliko ya   \n",
              "4                     kule abidjan raia wa jiji hilo   \n",
              "\n",
              "                                                path  sample_rate  channels  \\\n",
              "0  ../data/train/wav/SWH-05-20101106/SWH-05-20101...        16000         1   \n",
              "1  ../data/train/wav/SWH-05-20101106/SWH-05-20101...        16000         1   \n",
              "2  ../data/train/wav/SWH-05-20101106/SWH-05-20101...        16000         1   \n",
              "3  ../data/train/wav/SWH-05-20101106/SWH-05-20101...        16000         1   \n",
              "4  ../data/train/wav/SWH-05-20101106/SWH-05-20101...        16000         1   \n",
              "\n",
              "   duration  \n",
              "0      3.10  \n",
              "1      3.65  \n",
              "2      3.90  \n",
              "3      2.94  \n",
              "4      2.45  "
            ]
          },
          "execution_count": 7,
          "metadata": {},
          "output_type": "execute_result"
        }
      ],
      "source": [
        "meta_data.head()"
      ]
    },
    {
      "cell_type": "code",
      "execution_count": 6,
      "metadata": {
        "id": "l7b6-hEShf1n"
      },
      "outputs": [],
      "source": [
        "audioutil = AudioUtil()"
      ]
    },
    {
      "cell_type": "code",
      "execution_count": 5,
      "metadata": {},
      "outputs": [
        {
          "name": "stderr",
          "output_type": "stream",
          "text": [
            "5it [00:00,  9.91it/s]\n"
          ]
        },
        {
          "data": {
            "image/png": "[encoded data removed]",
            "text/plain": [
              "<Figure size 1008x360 with 1 Axes>"
            ]
          },
          "metadata": {
            "needs_background": "light"
          },
          "output_type": "display_data"
        }
      ],
      "source": [
        "# loading one audio file\n",
        "for index_num,row in tqdm(meta_data.iterrows()):\n",
        "    file_name = os.path.join(str(row[\"path\"]))\n",
        "    if index_num == 5:\n",
        "        # plotting the wave plot\n",
        "        plt.figure(figsize=(14,5))\n",
        "        data,sample_rate=librosa.load(file_name)\n",
        "        librosa.display.waveplot(data,sr=sample_rate)\n",
        "        ipd.Audio(file_name)\n",
        "        break "
      ]
    },
    {
      "cell_type": "markdown",
      "metadata": {},
      "source": [
        "Extracting features and displaying it"
      ]
    },
    {
      "cell_type": "code",
      "execution_count": 10,
      "metadata": {},
      "outputs": [
        {
          "name": "stdout",
          "output_type": "stream",
          "text": [
            "(20, 113)\n"
          ]
        },
        {
          "data": {
            "text/plain": [
              "<matplotlib.collections.QuadMesh at 0x7f0024978bd0>"
            ]
          },
          "execution_count": 10,
          "metadata": {},
          "output_type": "execute_result"
        },
        {
          "data": {
            "image/png": "[encoded data removed]",
            "text/plain": [
              "<Figure size 432x288 with 1 Axes>"
            ]
          },
          "metadata": {
            "needs_background": "light"
          },
          "output_type": "display_data"
        }
      ],
      "source": [
        "mfccs = librosa.feature.mfcc(data, sr=16000)\n",
        "print(mfccs.shape)\n",
        "#Displaying  the MFCCs:\n",
        "librosa.display.specshow(mfccs, sr=16000, x_axis='time')"
      ]
    },
    {
      "cell_type": "markdown",
      "metadata": {
        "id": "WsAbeUBqyZAD"
      },
      "source": [
        "Loading all audio files"
      ]
    },
    {
      "cell_type": "code",
      "execution_count": 7,
      "metadata": {
        "colab": {
          "base_uri": "https://localhost:8080/"
        },
        "id": "oKLZyrhxyYSD",
        "outputId": "b59dd896-c3ee-40a2-9a01-3371ecab2826"
      },
      "outputs": [
        {
          "name": "stderr",
          "output_type": "stream",
          "text": [
            "10179it [00:00, 15927.97it/s]\n"
          ]
        }
      ],
      "source": [
        "### Now we iterate through every metadata to load the data\n",
        "audioTranscript_files=[]\n",
        "for index_num,row in tqdm(meta_data.iterrows()):\n",
        "    file_name = os.path.join(str(row[\"path\"]))\n",
        "    final_class_labels=row[\"text\"]\n",
        "    duration = row['duration']\n",
        "    # data=audioutil.open(file_name)\n",
        "    audioTranscript_files.append([final_class_labels,duration,file_name])"
      ]
    },
    {
      "cell_type": "code",
      "execution_count": 8,
      "metadata": {
        "colab": {
          "base_uri": "https://localhost:8080/"
        },
        "id": "a1hizFcEznrz",
        "outputId": "038ee220-19ae-4661-c04d-1ad3fa9a6784"
      },
      "outputs": [
        {
          "data": {
            "text/html": [
              "<div>\n",
              "<style scoped>\n",
              "    .dataframe tbody tr th:only-of-type {\n",
              "        vertical-align: middle;\n",
              "    }\n",
              "\n",
              "    .dataframe tbody tr th {\n",
              "        vertical-align: top;\n",
              "    }\n",
              "\n",
              "    .dataframe thead th {\n",
              "        text-align: right;\n",
              "    }\n",
              "</style>\n",
              "<table border=\"1\" class=\"dataframe\">\n",
              "  <thead>\n",
              "    <tr style=\"text-align: right;\">\n",
              "      <th></th>\n",
              "      <th>text</th>\n",
              "      <th>duration</th>\n",
              "      <th>key</th>\n",
              "    </tr>\n",
              "  </thead>\n",
              "  <tbody>\n",
              "    <tr>\n",
              "      <th>0</th>\n",
              "      <td>yanayo andaliwa nami pendo pondo idhaa ya kisw...</td>\n",
              "      <td>3.10</td>\n",
              "      <td>../data/train/wav/SWH-05-20101106/SWH-05-20101...</td>\n",
              "    </tr>\n",
              "    <tr>\n",
              "      <th>1</th>\n",
              "      <td>inayokutangazia moja kwa moja kutoka jijini da...</td>\n",
              "      <td>3.65</td>\n",
              "      <td>../data/train/wav/SWH-05-20101106/SWH-05-20101...</td>\n",
              "    </tr>\n",
              "    <tr>\n",
              "      <th>2</th>\n",
              "      <td>juma hili bara la afrika limeshuhudia raia wa ...</td>\n",
              "      <td>3.90</td>\n",
              "      <td>../data/train/wav/SWH-05-20101106/SWH-05-20101...</td>\n",
              "    </tr>\n",
              "    <tr>\n",
              "      <th>3</th>\n",
              "      <td>wakipiga kura ya maoni ilikufanya mabadiliko ya</td>\n",
              "      <td>2.94</td>\n",
              "      <td>../data/train/wav/SWH-05-20101106/SWH-05-20101...</td>\n",
              "    </tr>\n",
              "    <tr>\n",
              "      <th>4</th>\n",
              "      <td>kule abidjan raia wa jiji hilo</td>\n",
              "      <td>2.45</td>\n",
              "      <td>../data/train/wav/SWH-05-20101106/SWH-05-20101...</td>\n",
              "    </tr>\n",
              "  </tbody>\n",
              "</table>\n",
              "</div>"
            ],
            "text/plain": [
              "                                                text  duration  \\\n",
              "0  yanayo andaliwa nami pendo pondo idhaa ya kisw...      3.10   \n",
              "1  inayokutangazia moja kwa moja kutoka jijini da...      3.65   \n",
              "2  juma hili bara la afrika limeshuhudia raia wa ...      3.90   \n",
              "3    wakipiga kura ya maoni ilikufanya mabadiliko ya      2.94   \n",
              "4                     kule abidjan raia wa jiji hilo      2.45   \n",
              "\n",
              "                                                 key  \n",
              "0  ../data/train/wav/SWH-05-20101106/SWH-05-20101...  \n",
              "1  ../data/train/wav/SWH-05-20101106/SWH-05-20101...  \n",
              "2  ../data/train/wav/SWH-05-20101106/SWH-05-20101...  \n",
              "3  ../data/train/wav/SWH-05-20101106/SWH-05-20101...  \n",
              "4  ../data/train/wav/SWH-05-20101106/SWH-05-20101...  "
            ]
          },
          "execution_count": 8,
          "metadata": {},
          "output_type": "execute_result"
        }
      ],
      "source": [
        "# saving list\n",
        "audioTranscript_files=pd.DataFrame(audioTranscript_files,columns=['text','duration','key'])\n",
        "audioTranscript_files.head()"
      ]
    },
    {
      "cell_type": "code",
      "execution_count": 13,
      "metadata": {},
      "outputs": [
        {
          "name": "stderr",
          "output_type": "stream",
          "text": [
            "0it [00:00, ?it/s]"
          ]
        },
        {
          "name": "stdout",
          "output_type": "stream",
          "text": [
            "text        yanayo andaliwa nami pendo pondo idhaa ya kisw...\n",
            "duration                                                  3.1\n",
            "key         ../data/train/wav/SWH-05-20101106/SWH-05-20101...\n",
            "Name: 0, dtype: object\n"
          ]
        },
        {
          "name": "stderr",
          "output_type": "stream",
          "text": [
            "\n"
          ]
        }
      ],
      "source": [
        "for index_num,row in tqdm(audioTranscript_files.iterrows()):\n",
        "    print(row)\n",
        "    break"
      ]
    },
    {
      "cell_type": "code",
      "execution_count": 9,
      "metadata": {},
      "outputs": [
        {
          "name": "stderr",
          "output_type": "stream",
          "text": [
            "8144it [00:00, 12212.63it/s]\n"
          ]
        }
      ],
      "source": [
        "# converts to json file\n",
        "import json\n",
        "dir_name = './train_corpus.json'\n",
        "with open(dir_name, mode='w', encoding='utf-8') as feedsjson:\n",
        "    for index_num,row in tqdm(audioTranscript_files.iterrows()):\n",
        "        # print(row)\n",
        "        if index_num == 8144:\n",
        "            break\n",
        "        entry = {'text': row.text, 'duration': row.duration, 'key': row.key}\n",
        "        # feeds.append(entry)\n",
        "        json.dump(entry, feedsjson)"
      ]
    },
    {
      "cell_type": "code",
      "execution_count": 10,
      "metadata": {},
      "outputs": [
        {
          "name": "stderr",
          "output_type": "stream",
          "text": [
            "10179it [00:00, 22124.46it/s]\n"
          ]
        }
      ],
      "source": [
        "#Valiadtion data\n",
        "# converts to json file\n",
        "import json\n",
        "dir_name = './validation_corpus.json'\n",
        "with open(dir_name, mode='w', encoding='utf-8') as feedsjson:\n",
        "    for index_num,row in tqdm(audioTranscript_files.iterrows()):\n",
        "        # print(row)\n",
        "        if index_num >= 8144:\n",
        "            entry = {'text': row.text, 'duration': row.duration, 'key': row.key}\n",
        "            # feeds.append(entry)\n",
        "            json.dump(entry, feedsjson)"
      ]
    },
    {
      "cell_type": "code",
      "execution_count": 19,
      "metadata": {},
      "outputs": [],
      "source": [
        "audioTranscript_files.to_json('../data_St/train_corpus.json')"
      ]
    },
    {
      "cell_type": "markdown",
      "metadata": {
        "id": "OLR40AU2jUk2"
      },
      "source": [
        "# Changing mono sound to stereo"
      ]
    },
    {
      "cell_type": "code",
      "execution_count": 9,
      "metadata": {
        "colab": {
          "base_uri": "https://localhost:8080/"
        },
        "id": "8vLNTLQLjhOT",
        "outputId": "c7ba6ed4-61a3-4e4a-b2e8-61699666fa1a"
      },
      "outputs": [
        {
          "name": "stderr",
          "output_type": "stream",
          "text": [
            "10179it [00:02, 4953.12it/s]\n"
          ]
        }
      ],
      "source": [
        "# since we want to change our file to stereo, we will assign the channel to be  2\n",
        "channel= 2\n",
        "### Now we iterate the first 100 audio file and change the channel \n",
        "changes_channel=[]\n",
        "for index_num,row in tqdm(audioTranscript_files.iterrows()):\n",
        "    file_name = row[\"audio\"]\n",
        "    final_class_labels=row[\"text\"]\n",
        "    data=audioutil.rechannel(file_name,channel)\n",
        "    changes_channel.append([data,final_class_labels])"
      ]
    },
    {
      "cell_type": "code",
      "execution_count": 10,
      "metadata": {
        "colab": {
          "base_uri": "https://localhost:8080/",
          "height": 204
        },
        "id": "hRVNbBq60zpM",
        "outputId": "84c20744-af1e-45c5-d27c-9e472920d3e5"
      },
      "outputs": [
        {
          "data": {
            "text/html": [
              "<div>\n",
              "<style scoped>\n",
              "    .dataframe tbody tr th:only-of-type {\n",
              "        vertical-align: middle;\n",
              "    }\n",
              "\n",
              "    .dataframe tbody tr th {\n",
              "        vertical-align: top;\n",
              "    }\n",
              "\n",
              "    .dataframe thead th {\n",
              "        text-align: right;\n",
              "    }\n",
              "</style>\n",
              "<table border=\"1\" class=\"dataframe\">\n",
              "  <thead>\n",
              "    <tr style=\"text-align: right;\">\n",
              "      <th></th>\n",
              "      <th>audio</th>\n",
              "      <th>text</th>\n",
              "    </tr>\n",
              "  </thead>\n",
              "  <tbody>\n",
              "    <tr>\n",
              "      <th>0</th>\n",
              "      <td>([[tensor(0.0048), tensor(0.0061), tensor(0.00...</td>\n",
              "      <td>yanayo andaliwa nami pendo pondo idhaa ya kisw...</td>\n",
              "    </tr>\n",
              "    <tr>\n",
              "      <th>1</th>\n",
              "      <td>([[tensor(0.0091), tensor(0.0082), tensor(0.00...</td>\n",
              "      <td>inayokutangazia moja kwa moja kutoka jijini da...</td>\n",
              "    </tr>\n",
              "    <tr>\n",
              "      <th>2</th>\n",
              "      <td>([[tensor(-0.0113), tensor(-0.0111), tensor(-0...</td>\n",
              "      <td>juma hili bara la afrika limeshuhudia raia wa ...</td>\n",
              "    </tr>\n",
              "    <tr>\n",
              "      <th>3</th>\n",
              "      <td>([[tensor(0.0109), tensor(0.0133), tensor(0.01...</td>\n",
              "      <td>wakipiga kura ya maoni ilikufanya mabadiliko ya</td>\n",
              "    </tr>\n",
              "    <tr>\n",
              "      <th>4</th>\n",
              "      <td>([[tensor(0.0023), tensor(0.0009), tensor(0.00...</td>\n",
              "      <td>kule abidjan raia wa jiji hilo</td>\n",
              "    </tr>\n",
              "  </tbody>\n",
              "</table>\n",
              "</div>"
            ],
            "text/plain": [
              "                                               audio  \\\n",
              "0  ([[tensor(0.0048), tensor(0.0061), tensor(0.00...   \n",
              "1  ([[tensor(0.0091), tensor(0.0082), tensor(0.00...   \n",
              "2  ([[tensor(-0.0113), tensor(-0.0111), tensor(-0...   \n",
              "3  ([[tensor(0.0109), tensor(0.0133), tensor(0.01...   \n",
              "4  ([[tensor(0.0023), tensor(0.0009), tensor(0.00...   \n",
              "\n",
              "                                                text  \n",
              "0  yanayo andaliwa nami pendo pondo idhaa ya kisw...  \n",
              "1  inayokutangazia moja kwa moja kutoka jijini da...  \n",
              "2  juma hili bara la afrika limeshuhudia raia wa ...  \n",
              "3    wakipiga kura ya maoni ilikufanya mabadiliko ya  \n",
              "4                     kule abidjan raia wa jiji hilo  "
            ]
          },
          "execution_count": 10,
          "metadata": {},
          "output_type": "execute_result"
        }
      ],
      "source": [
        "# saving list\n",
        "changes_channel=pd.DataFrame(changes_channel,columns=['audio','text'])\n",
        "changes_channel.head()"
      ]
    },
    {
      "cell_type": "markdown",
      "metadata": {
        "id": "UanBxd5YjwCF"
      },
      "source": [
        "# Re sampling Audio data set"
      ]
    },
    {
      "cell_type": "code",
      "execution_count": 11,
      "metadata": {
        "colab": {
          "base_uri": "https://localhost:8080/"
        },
        "id": "9g_q8fUYjvvk",
        "outputId": "de2918ce-2600-4392-bc51-83b1de60e89b"
      },
      "outputs": [
        {
          "name": "stderr",
          "output_type": "stream",
          "text": [
            "10179it [00:00, 20300.81it/s]\n"
          ]
        }
      ],
      "source": [
        "# Since Resample applies to a single channel, we resample one channel at a time\n",
        "# new sample Rate for all the audio file will be the most common one which is 16000\n",
        "newsr = 16000\n",
        "resampling_audio=[]\n",
        "### Now we iterate through every audio file and resamples the audio\n",
        "for index_num,row in tqdm(changes_channel.iterrows()):\n",
        "    file_name = row[\"audio\"]\n",
        "    final_class_labels=row[\"text\"]\n",
        "    data=audioutil.resample(file_name,newsr)\n",
        "    resampling_audio.append([data,final_class_labels])"
      ]
    },
    {
      "cell_type": "code",
      "execution_count": 17,
      "metadata": {
        "colab": {
          "base_uri": "https://localhost:8080/",
          "height": 204
        },
        "id": "c6adAUd156bE",
        "outputId": "b0ba0a92-5392-45c0-9409-5f0280f4938e"
      },
      "outputs": [
        {
          "data": {
            "text/html": [
              "<div>\n",
              "<style scoped>\n",
              "    .dataframe tbody tr th:only-of-type {\n",
              "        vertical-align: middle;\n",
              "    }\n",
              "\n",
              "    .dataframe tbody tr th {\n",
              "        vertical-align: top;\n",
              "    }\n",
              "\n",
              "    .dataframe thead th {\n",
              "        text-align: right;\n",
              "    }\n",
              "</style>\n",
              "<table border=\"1\" class=\"dataframe\">\n",
              "  <thead>\n",
              "    <tr style=\"text-align: right;\">\n",
              "      <th></th>\n",
              "      <th>audio</th>\n",
              "      <th>text</th>\n",
              "    </tr>\n",
              "  </thead>\n",
              "  <tbody>\n",
              "    <tr>\n",
              "      <th>0</th>\n",
              "      <td>([[tensor(0.0048), tensor(0.0061), tensor(0.00...</td>\n",
              "      <td>yanayo andaliwa nami pendo pondo idhaa ya kisw...</td>\n",
              "    </tr>\n",
              "    <tr>\n",
              "      <th>1</th>\n",
              "      <td>([[tensor(0.0091), tensor(0.0082), tensor(0.00...</td>\n",
              "      <td>inayokutangazia moja kwa moja kutoka jijini da...</td>\n",
              "    </tr>\n",
              "    <tr>\n",
              "      <th>2</th>\n",
              "      <td>([[tensor(-0.0113), tensor(-0.0111), tensor(-0...</td>\n",
              "      <td>juma hili bara la afrika limeshuhudia raia wa ...</td>\n",
              "    </tr>\n",
              "    <tr>\n",
              "      <th>3</th>\n",
              "      <td>([[tensor(0.0109), tensor(0.0133), tensor(0.01...</td>\n",
              "      <td>wakipiga kura ya maoni ilikufanya mabadiliko ya</td>\n",
              "    </tr>\n",
              "    <tr>\n",
              "      <th>4</th>\n",
              "      <td>([[tensor(0.0023), tensor(0.0009), tensor(0.00...</td>\n",
              "      <td>kule abidjan raia wa jiji hilo</td>\n",
              "    </tr>\n",
              "  </tbody>\n",
              "</table>\n",
              "</div>"
            ],
            "text/plain": [
              "                                               audio  \\\n",
              "0  ([[tensor(0.0048), tensor(0.0061), tensor(0.00...   \n",
              "1  ([[tensor(0.0091), tensor(0.0082), tensor(0.00...   \n",
              "2  ([[tensor(-0.0113), tensor(-0.0111), tensor(-0...   \n",
              "3  ([[tensor(0.0109), tensor(0.0133), tensor(0.01...   \n",
              "4  ([[tensor(0.0023), tensor(0.0009), tensor(0.00...   \n",
              "\n",
              "                                                text  \n",
              "0  yanayo andaliwa nami pendo pondo idhaa ya kisw...  \n",
              "1  inayokutangazia moja kwa moja kutoka jijini da...  \n",
              "2  juma hili bara la afrika limeshuhudia raia wa ...  \n",
              "3    wakipiga kura ya maoni ilikufanya mabadiliko ya  \n",
              "4                     kule abidjan raia wa jiji hilo  "
            ]
          },
          "execution_count": 17,
          "metadata": {},
          "output_type": "execute_result"
        }
      ],
      "source": [
        "# saving list\n",
        "resampling_audio=pd.DataFrame(resampling_audio,columns=['audio','text'])\n",
        "resampling_audio.head()"
      ]
    },
    {
      "cell_type": "markdown",
      "metadata": {
        "id": "yysrFELzj4MP"
      },
      "source": [
        "# Resizing to the same length"
      ]
    },
    {
      "cell_type": "code",
      "execution_count": 13,
      "metadata": {
        "colab": {
          "base_uri": "https://localhost:8080/"
        },
        "id": "soDphA_1jr6F",
        "outputId": "5f59d1ba-2b3d-4c9b-b030-f30a3bc768b6"
      },
      "outputs": [
        {
          "name": "stderr",
          "output_type": "stream",
          "text": [
            "10179it [00:03, 3026.54it/s]\n"
          ]
        }
      ],
      "source": [
        "# The maximum audio length we have in the data set is 6.15 sec, so we will try to resize \n",
        "# all the data to the maximum length.\n",
        "max_ms = 6150\n",
        "resizing_Length=[]\n",
        "### Now we iterate through every audio file and resizes to the same length\n",
        "for index_num,row in tqdm(resampling_audio.iterrows()):\n",
        "    file_name = row[\"audio\"]\n",
        "    final_class_labels=row[\"text\"]\n",
        "    data=audioutil.pad_trunc(file_name,max_ms)\n",
        "    resizing_Length.append([data,final_class_labels])"
      ]
    },
    {
      "cell_type": "code",
      "execution_count": 19,
      "metadata": {
        "colab": {
          "base_uri": "https://localhost:8080/",
          "height": 204
        },
        "id": "gZAIANPXg7Dr",
        "outputId": "91ef3df0-fb06-4014-a59f-dead54ecc687"
      },
      "outputs": [
        {
          "data": {
            "text/html": [
              "<div>\n",
              "<style scoped>\n",
              "    .dataframe tbody tr th:only-of-type {\n",
              "        vertical-align: middle;\n",
              "    }\n",
              "\n",
              "    .dataframe tbody tr th {\n",
              "        vertical-align: top;\n",
              "    }\n",
              "\n",
              "    .dataframe thead th {\n",
              "        text-align: right;\n",
              "    }\n",
              "</style>\n",
              "<table border=\"1\" class=\"dataframe\">\n",
              "  <thead>\n",
              "    <tr style=\"text-align: right;\">\n",
              "      <th></th>\n",
              "      <th>audio</th>\n",
              "      <th>text</th>\n",
              "    </tr>\n",
              "  </thead>\n",
              "  <tbody>\n",
              "    <tr>\n",
              "      <th>0</th>\n",
              "      <td>([[tensor(0.), tensor(0.), tensor(0.), tensor(...</td>\n",
              "      <td>yanayo andaliwa nami pendo pondo idhaa ya kisw...</td>\n",
              "    </tr>\n",
              "    <tr>\n",
              "      <th>1</th>\n",
              "      <td>([[tensor(0.), tensor(0.), tensor(0.), tensor(...</td>\n",
              "      <td>inayokutangazia moja kwa moja kutoka jijini da...</td>\n",
              "    </tr>\n",
              "    <tr>\n",
              "      <th>2</th>\n",
              "      <td>([[tensor(0.), tensor(0.), tensor(0.), tensor(...</td>\n",
              "      <td>juma hili bara la afrika limeshuhudia raia wa ...</td>\n",
              "    </tr>\n",
              "    <tr>\n",
              "      <th>3</th>\n",
              "      <td>([[tensor(0.), tensor(0.), tensor(0.), tensor(...</td>\n",
              "      <td>wakipiga kura ya maoni ilikufanya mabadiliko ya</td>\n",
              "    </tr>\n",
              "    <tr>\n",
              "      <th>4</th>\n",
              "      <td>([[tensor(0.), tensor(0.), tensor(0.), tensor(...</td>\n",
              "      <td>kule abidjan raia wa jiji hilo</td>\n",
              "    </tr>\n",
              "  </tbody>\n",
              "</table>\n",
              "</div>"
            ],
            "text/plain": [
              "                                               audio  \\\n",
              "0  ([[tensor(0.), tensor(0.), tensor(0.), tensor(...   \n",
              "1  ([[tensor(0.), tensor(0.), tensor(0.), tensor(...   \n",
              "2  ([[tensor(0.), tensor(0.), tensor(0.), tensor(...   \n",
              "3  ([[tensor(0.), tensor(0.), tensor(0.), tensor(...   \n",
              "4  ([[tensor(0.), tensor(0.), tensor(0.), tensor(...   \n",
              "\n",
              "                                                text  \n",
              "0  yanayo andaliwa nami pendo pondo idhaa ya kisw...  \n",
              "1  inayokutangazia moja kwa moja kutoka jijini da...  \n",
              "2  juma hili bara la afrika limeshuhudia raia wa ...  \n",
              "3    wakipiga kura ya maoni ilikufanya mabadiliko ya  \n",
              "4                     kule abidjan raia wa jiji hilo  "
            ]
          },
          "execution_count": 19,
          "metadata": {},
          "output_type": "execute_result"
        }
      ],
      "source": [
        "# saving list\n",
        "resizing_Length=pd.DataFrame(resizing_Length,columns=['audio','text'])\n",
        "resizing_Length.head()"
      ]
    },
    {
      "cell_type": "markdown",
      "metadata": {
        "id": "ysFX79fYkVIH"
      },
      "source": [
        "# Data Augmentation"
      ]
    },
    {
      "cell_type": "code",
      "execution_count": 20,
      "metadata": {
        "colab": {
          "base_uri": "https://localhost:8080/"
        },
        "id": "d61uVO2QkRMS",
        "outputId": "45585180-02d0-4075-c80e-6d36e5f7d47c"
      },
      "outputs": [
        {
          "name": "stderr",
          "output_type": "stream",
          "text": [
            "10179it [00:01, 7434.96it/s]\n"
          ]
        }
      ],
      "source": [
        "# The time shift we will use for this data set sr/10\n",
        "sr =16000\n",
        "shift_limit = sr/10\n",
        "Data_Augments=[]\n",
        "### Now we iterate through every audio file and resizes to the same length\n",
        "for index_num,row in tqdm(resizing_Length.iterrows()):\n",
        "    file_name = row[\"audio\"]\n",
        "    final_class_labels=row[\"text\"]\n",
        "    data=audioutil.time_shift(file_name,shift_limit)\n",
        "    Data_Augments.append([data,final_class_labels])"
      ]
    },
    {
      "cell_type": "code",
      "execution_count": 21,
      "metadata": {
        "colab": {
          "base_uri": "https://localhost:8080/"
        },
        "id": "87ghvmv-hxmC",
        "outputId": "44af6244-7e48-47e0-8309-bcd6d822b42d"
      },
      "outputs": [
        {
          "data": {
            "text/plain": [
              "(10179, 2)"
            ]
          },
          "execution_count": 21,
          "metadata": {},
          "output_type": "execute_result"
        }
      ],
      "source": [
        "# saving list\n",
        "Data_Augments=pd.DataFrame(Data_Augments,columns=['audio','text'])\n",
        "Data_Augments.shape"
      ]
    },
    {
      "cell_type": "code",
      "execution_count": 22,
      "metadata": {
        "colab": {
          "base_uri": "https://localhost:8080/",
          "height": 204
        },
        "id": "4OQYulTwjmbB",
        "outputId": "cfba4e04-13ff-447e-845d-86152a630013"
      },
      "outputs": [
        {
          "data": {
            "text/html": [
              "<div>\n",
              "<style scoped>\n",
              "    .dataframe tbody tr th:only-of-type {\n",
              "        vertical-align: middle;\n",
              "    }\n",
              "\n",
              "    .dataframe tbody tr th {\n",
              "        vertical-align: top;\n",
              "    }\n",
              "\n",
              "    .dataframe thead th {\n",
              "        text-align: right;\n",
              "    }\n",
              "</style>\n",
              "<table border=\"1\" class=\"dataframe\">\n",
              "  <thead>\n",
              "    <tr style=\"text-align: right;\">\n",
              "      <th></th>\n",
              "      <th>audio</th>\n",
              "      <th>text</th>\n",
              "    </tr>\n",
              "  </thead>\n",
              "  <tbody>\n",
              "    <tr>\n",
              "      <th>0</th>\n",
              "      <td>([[tensor(0.), tensor(0.), tensor(0.), tensor(...</td>\n",
              "      <td>yanayo andaliwa nami pendo pondo idhaa ya kisw...</td>\n",
              "    </tr>\n",
              "    <tr>\n",
              "      <th>1</th>\n",
              "      <td>([[tensor(0.1709), tensor(0.2057), tensor(0.22...</td>\n",
              "      <td>inayokutangazia moja kwa moja kutoka jijini da...</td>\n",
              "    </tr>\n",
              "    <tr>\n",
              "      <th>2</th>\n",
              "      <td>([[tensor(0.), tensor(0.), tensor(0.), tensor(...</td>\n",
              "      <td>juma hili bara la afrika limeshuhudia raia wa ...</td>\n",
              "    </tr>\n",
              "    <tr>\n",
              "      <th>3</th>\n",
              "      <td>([[tensor(0.), tensor(0.), tensor(0.), tensor(...</td>\n",
              "      <td>wakipiga kura ya maoni ilikufanya mabadiliko ya</td>\n",
              "    </tr>\n",
              "    <tr>\n",
              "      <th>4</th>\n",
              "      <td>([[tensor(-0.1109), tensor(-0.0138), tensor(0....</td>\n",
              "      <td>kule abidjan raia wa jiji hilo</td>\n",
              "    </tr>\n",
              "  </tbody>\n",
              "</table>\n",
              "</div>"
            ],
            "text/plain": [
              "                                               audio  \\\n",
              "0  ([[tensor(0.), tensor(0.), tensor(0.), tensor(...   \n",
              "1  ([[tensor(0.1709), tensor(0.2057), tensor(0.22...   \n",
              "2  ([[tensor(0.), tensor(0.), tensor(0.), tensor(...   \n",
              "3  ([[tensor(0.), tensor(0.), tensor(0.), tensor(...   \n",
              "4  ([[tensor(-0.1109), tensor(-0.0138), tensor(0....   \n",
              "\n",
              "                                                text  \n",
              "0  yanayo andaliwa nami pendo pondo idhaa ya kisw...  \n",
              "1  inayokutangazia moja kwa moja kutoka jijini da...  \n",
              "2  juma hili bara la afrika limeshuhudia raia wa ...  \n",
              "3    wakipiga kura ya maoni ilikufanya mabadiliko ya  \n",
              "4                     kule abidjan raia wa jiji hilo  "
            ]
          },
          "execution_count": 22,
          "metadata": {},
          "output_type": "execute_result"
        }
      ],
      "source": [
        "# saving list\n",
        "Data_Augments=pd.DataFrame(Data_Augments,columns=['audio','text'])\n",
        "Data_Augments.head()"
      ]
    },
    {
      "cell_type": "markdown",
      "metadata": {
        "id": "DcUbMMtUnW6T"
      },
      "source": [
        "# Feature extraction using Mel Spectrogram"
      ]
    },
    {
      "cell_type": "code",
      "execution_count": 23,
      "metadata": {
        "colab": {
          "base_uri": "https://localhost:8080/"
        },
        "id": "hDTp3_shnZ32",
        "outputId": "f81389ee-9669-4f06-bd0d-1ac16a90f14b"
      },
      "outputs": [
        {
          "name": "stderr",
          "output_type": "stream",
          "text": [
            "9281it [00:39,  6.77it/s]"
          ]
        }
      ],
      "source": [
        "### Now we iterate through every audio file and extracts feature\n",
        "Feature_Extraction = []\n",
        "for index_num,row in tqdm(Data_Augments.iterrows()):\n",
        "    file_name = row[\"audio\"]\n",
        "    final_class_labels=row[\"text\"]\n",
        "    data=audioutil.spectro_gram(file_name, n_mels=64, n_fft=1024, hop_len=None)\n",
        "    Feature_Extraction.append([data,final_class_labels])\n"
      ]
    },
    {
      "cell_type": "code",
      "execution_count": 42,
      "metadata": {
        "colab": {
          "base_uri": "https://localhost:8080/",
          "height": 204
        },
        "id": "eIaKalxuygWI",
        "outputId": "e40f4e1f-38f8-42ba-debe-68f3c353825b"
      },
      "outputs": [
        {
          "data": {
            "text/html": [
              "<div>\n",
              "<style scoped>\n",
              "    .dataframe tbody tr th:only-of-type {\n",
              "        vertical-align: middle;\n",
              "    }\n",
              "\n",
              "    .dataframe tbody tr th {\n",
              "        vertical-align: top;\n",
              "    }\n",
              "\n",
              "    .dataframe thead th {\n",
              "        text-align: right;\n",
              "    }\n",
              "</style>\n",
              "<table border=\"1\" class=\"dataframe\">\n",
              "  <thead>\n",
              "    <tr style=\"text-align: right;\">\n",
              "      <th></th>\n",
              "      <th>audio</th>\n",
              "      <th>text</th>\n",
              "    </tr>\n",
              "  </thead>\n",
              "  <tbody>\n",
              "    <tr>\n",
              "      <th>0</th>\n",
              "      <td>[[[tensor(-42.5674), tensor(-42.5674), tensor(...</td>\n",
              "      <td>yanayo andaliwa nami pendo pondo idhaa ya kisw...</td>\n",
              "    </tr>\n",
              "    <tr>\n",
              "      <th>1</th>\n",
              "      <td>[[[tensor(5.8928), tensor(0.1204), tensor(3.41...</td>\n",
              "      <td>inayokutangazia moja kwa moja kutoka jijini da...</td>\n",
              "    </tr>\n",
              "    <tr>\n",
              "      <th>2</th>\n",
              "      <td>[[[tensor(-39.2071), tensor(-39.2071), tensor(...</td>\n",
              "      <td>juma hili bara la afrika limeshuhudia raia wa ...</td>\n",
              "    </tr>\n",
              "    <tr>\n",
              "      <th>3</th>\n",
              "      <td>[[[tensor(15.0539), tensor(1.7983), tensor(-3....</td>\n",
              "      <td>wakipiga kura ya maoni ilikufanya mabadiliko ya</td>\n",
              "    </tr>\n",
              "    <tr>\n",
              "      <th>4</th>\n",
              "      <td>[[[tensor(19.1341), tensor(-1.4305), tensor(7....</td>\n",
              "      <td>kule abidjan raia wa jiji hilo</td>\n",
              "    </tr>\n",
              "  </tbody>\n",
              "</table>\n",
              "</div>"
            ],
            "text/plain": [
              "                                               audio                                               text\n",
              "0  [[[tensor(-42.5674), tensor(-42.5674), tensor(...  yanayo andaliwa nami pendo pondo idhaa ya kisw...\n",
              "1  [[[tensor(5.8928), tensor(0.1204), tensor(3.41...  inayokutangazia moja kwa moja kutoka jijini da...\n",
              "2  [[[tensor(-39.2071), tensor(-39.2071), tensor(...  juma hili bara la afrika limeshuhudia raia wa ...\n",
              "3  [[[tensor(15.0539), tensor(1.7983), tensor(-3....    wakipiga kura ya maoni ilikufanya mabadiliko ya\n",
              "4  [[[tensor(19.1341), tensor(-1.4305), tensor(7....                     kule abidjan raia wa jiji hilo"
            ]
          },
          "execution_count": 42,
          "metadata": {
            "tags": []
          },
          "output_type": "execute_result"
        }
      ],
      "source": [
        "Feature_Extraction=pd.DataFrame(Feature_Extraction,columns=['audio','text'])\n",
        "Feature_Extraction.head()"
      ]
    }
  ],
  "metadata": {
    "colab": {
      "collapsed_sections": [],
      "name": "data_Preprocess.ipynb",
      "provenance": []
    },
    "interpreter": {
      "hash": "916dbcbb3f70747c44a77c7bcd40155683ae19c65e1c03b4aa3499c5328201f1"
    },
    "kernelspec": {
      "display_name": "Python 3.7.10 64-bit",
      "name": "python3"
    },
    "language_info": {
      "codemirror_mode": {
        "name": "ipython",
        "version": 3
      },
      "file_extension": ".py",
      "mimetype": "text/x-python",
      "name": "python",
      "nbconvert_exporter": "python",
      "pygments_lexer": "ipython3",
      "version": "3.7.10"
    }
  },
  "nbformat": 4,
  "nbformat_minor": 0
}