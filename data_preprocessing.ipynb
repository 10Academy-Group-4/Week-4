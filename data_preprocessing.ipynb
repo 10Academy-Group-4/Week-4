{
  "nbformat": 4,
  "nbformat_minor": 0,
  "metadata": {
    "colab": {
      "name": "data_preprocessing.ipynb",
      "provenance": [],
      "authorship_tag": "ABX9TyOxZ6q1X34ODGi3MfmGK76A",
      "include_colab_link": true
    },
    "kernelspec": {
      "name": "python3",
      "display_name": "Python 3"
    },
    "language_info": {
      "name": "python"
    },
    "accelerator": "GPU"
  },
  "cells": [
    {
      "cell_type": "markdown",
      "metadata": {
        "id": "view-in-github",
        "colab_type": "text"
      },
      "source": [
        "<a href=\"https://colab.research.google.com/github/10Academy-Group-4/Week-4/blob/data_preprocess_mubby/data_preprocessing.ipynb\" target=\"_parent\"><img src=\"https://colab.research.google.com/assets/colab-badge.svg\" alt=\"Open In Colab\"/></a>"
      ]
    },
    {
      "cell_type": "code",
      "metadata": {
        "colab": {
          "base_uri": "https://localhost:8080/"
        },
        "id": "8HO7LdSPCw0B",
        "outputId": "9967d1f5-b60d-4a55-dc3b-6097812bc6fc"
      },
      "source": [
        "!git clone https://github.com/10Academy-Group-4/ALFFA_PUBLIC.git"
      ],
      "execution_count": null,
      "outputs": [
        {
          "output_type": "stream",
          "text": [
            "Cloning into 'ALFFA_PUBLIC'...\n",
            "remote: Enumerating objects: 66024, done.\u001b[K\n",
            "remote: Total 66024 (delta 0), reused 0 (delta 0), pack-reused 66024\u001b[K\n",
            "Receiving objects: 100% (66024/66024), 6.54 GiB | 28.60 MiB/s, done.\n",
            "Resolving deltas: 100% (12337/12337), done.\n",
            "Checking out files: 100% (56925/56925), done.\n"
          ],
          "name": "stdout"
        }
      ]
    },
    {
      "cell_type": "code",
      "metadata": {
        "id": "6peIwHzHDCIw"
      },
      "source": [
        "!rm -rf ALFFA-PUBLIC"
      ],
      "execution_count": null,
      "outputs": []
    },
    {
      "cell_type": "code",
      "metadata": {
        "id": "PNu1mZsTFQI1"
      },
      "source": [
        "!rm -rf sample_data"
      ],
      "execution_count": null,
      "outputs": []
    },
    {
      "cell_type": "code",
      "metadata": {
        "id": "QzQ-kbtGFVxz"
      },
      "source": [
        "!rm -rf ALFFA_PUBLIC"
      ],
      "execution_count": 5,
      "outputs": []
    },
    {
      "cell_type": "code",
      "metadata": {
        "id": "Vh8jfKcdGtL_"
      },
      "source": [
        ""
      ],
      "execution_count": null,
      "outputs": []
    }
  ]
}