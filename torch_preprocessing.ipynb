{
  "nbformat": 4,
  "nbformat_minor": 0,
  "metadata": {
    "colab": {
      "name": "torch_preprocessing.ipynb",
      "provenance": [],
      "collapsed_sections": [],
      "include_colab_link": true
    },
    "kernelspec": {
      "name": "python3",
      "display_name": "Python 3"
    },
    "language_info": {
      "name": "python"
    }
  },
  "cells": [
    {
      "cell_type": "markdown",
      "metadata": {
        "id": "view-in-github",
        "colab_type": "text"
      },
      "source": [
        "<a href=\"https://colab.research.google.com/github/10Academy-Group-4/Week-4/blob/mdahwireng_preprocessing/torch_preprocessing.ipynb\" target=\"_parent\"><img src=\"https://colab.research.google.com/assets/colab-badge.svg\" alt=\"Open In Colab\"/></a>"
      ]
    },
    {
      "cell_type": "code",
      "metadata": {
        "colab": {
          "base_uri": "https://localhost:8080/"
        },
        "id": "APArjKVWASgv",
        "outputId": "89880d7a-601f-4c20-ebff-c32a88fb3955"
      },
      "source": [
        "pip install torchaudio"
      ],
      "execution_count": null,
      "outputs": [
        {
          "output_type": "stream",
          "text": [
            "Collecting torchaudio\n",
            "  Downloading torchaudio-0.9.0-cp37-cp37m-manylinux1_x86_64.whl (1.9 MB)\n",
            "\u001b[K     |████████████████████████████████| 1.9 MB 4.3 MB/s \n",
            "\u001b[?25hRequirement already satisfied: torch==1.9.0 in /usr/local/lib/python3.7/dist-packages (from torchaudio) (1.9.0+cu102)\n",
            "Requirement already satisfied: typing-extensions in /usr/local/lib/python3.7/dist-packages (from torch==1.9.0->torchaudio) (3.7.4.3)\n",
            "Installing collected packages: torchaudio\n",
            "Successfully installed torchaudio-0.9.0\n"
          ],
          "name": "stdout"
        }
      ]
    },
    {
      "cell_type": "code",
      "metadata": {
        "id": "PbQ7Ga45KKiI"
      },
      "source": [
        "from pre_process import PrepSound"
      ],
      "execution_count": 5,
      "outputs": []
    },
    {
      "cell_type": "markdown",
      "metadata": {
        "id": "view-in-github"
      },
      "source": [
        "<a href=\"https://colab.research.google.com/github/10Academy-Group-4/Week-4/blob/mdahwireng_preprocessing/torch_preprocessing.ipynb\" target=\"_parent\"><img src=\"https://colab.research.google.com/assets/colab-badge.svg\" alt=\"Open In Colab\"/></a>"
      ]
    },
    {
      "cell_type": "code",
      "metadata": {
        "id": "wDwR7JKg95qs"
      },
      "source": [
        "import pandas as pd"
      ],
      "execution_count": 6,
      "outputs": []
    },
    {
      "cell_type": "code",
      "metadata": {
        "colab": {
          "base_uri": "https://localhost:8080/"
        },
        "id": "5fROLFu1nTGw",
        "outputId": "821320c0-261e-486d-d821-2585434e8114"
      },
      "source": [
        "from google.colab import drive\n",
        "drive.mount(\"/content/drive\")"
      ],
      "execution_count": 7,
      "outputs": [
        {
          "output_type": "stream",
          "text": [
            "Mounted at /content/drive\n"
          ],
          "name": "stdout"
        }
      ]
    },
    {
      "cell_type": "code",
      "metadata": {
        "colab": {
          "base_uri": "https://localhost:8080/"
        },
        "id": "II2IbHRfpBse",
        "outputId": "28dc1f80-c339-49d8-e56c-c751b75ee061"
      },
      "source": [
        "%cd /content/drive/MyDrive/10acad/week4_speech_to_text/ALFFA_PUBLIC/ASR/SWAHILI"
      ],
      "execution_count": 8,
      "outputs": [
        {
          "output_type": "stream",
          "text": [
            "/content/drive/MyDrive/10acad/week4_speech_to_text/ALFFA_PUBLIC/ASR/SWAHILI\n"
          ],
          "name": "stdout"
        }
      ]
    },
    {
      "cell_type": "code",
      "metadata": {
        "id": "o86te444t0E1"
      },
      "source": [
        "import os\n",
        "os.chdir(\"data/train/wav\")"
      ],
      "execution_count": 9,
      "outputs": []
    },
    {
      "cell_type": "code",
      "metadata": {
        "id": "dN9zi1hp1Iuj"
      },
      "source": [
        "train_folders = os.listdir()"
      ],
      "execution_count": 10,
      "outputs": []
    },
    {
      "cell_type": "code",
      "metadata": {
        "id": "oGbew0iouAbT"
      },
      "source": [
        "specs_dict = {'waves':[], 'specs':[]}\n",
        "for folder in train_folders:\n",
        "  for f in os.listdir(folder):\n",
        "    if f.endswith('.wav'):\n",
        "      prep = PrepSound(audio_file=f, path=folder)\n",
        "      specs_dict['waves'].append(f)\n",
        "      specs_dict['specs'].append(prep.pre_process(newsr=16000, max_ms=58400))"
      ],
      "execution_count": null,
      "outputs": []
    },
    {
      "cell_type": "code",
      "metadata": {
        "id": "qFMPE4KuYYKK"
      },
      "source": [
        "pd.DataFrame(specs_dict)"
      ],
      "execution_count": null,
      "outputs": []
    },
    {
      "cell_type": "code",
      "metadata": {
        "id": "gx-FFPuD94ML"
      },
      "source": [
        "os.chdir(\"..\")"
      ],
      "execution_count": null,
      "outputs": []
    },
    {
      "cell_type": "code",
      "metadata": {
        "id": "dvIRG3V9-S8r"
      },
      "source": [
        "os.listdir()\n",
        "transcript = pd.read_csv('text', sep='\\t', names=['file','transcript'])"
      ],
      "execution_count": null,
      "outputs": []
    },
    {
      "cell_type": "code",
      "metadata": {
        "colab": {
          "base_uri": "https://localhost:8080/",
          "height": 206
        },
        "id": "feIzLLN3-6is",
        "outputId": "3c4afcd4-ffc4-498f-cad6-c55848149422"
      },
      "source": [
        "transcript.head()"
      ],
      "execution_count": null,
      "outputs": [
        {
          "output_type": "execute_result",
          "data": {
            "text/html": [
              "<div>\n",
              "<style scoped>\n",
              "    .dataframe tbody tr th:only-of-type {\n",
              "        vertical-align: middle;\n",
              "    }\n",
              "\n",
              "    .dataframe tbody tr th {\n",
              "        vertical-align: top;\n",
              "    }\n",
              "\n",
              "    .dataframe thead th {\n",
              "        text-align: right;\n",
              "    }\n",
              "</style>\n",
              "<table border=\"1\" class=\"dataframe\">\n",
              "  <thead>\n",
              "    <tr style=\"text-align: right;\">\n",
              "      <th></th>\n",
              "      <th>file</th>\n",
              "      <th>transcript</th>\n",
              "    </tr>\n",
              "  </thead>\n",
              "  <tbody>\n",
              "    <tr>\n",
              "      <th>0</th>\n",
              "      <td>SWH-05-20101106_16k-emission_swahili_05h30_-_0...</td>\n",
              "      <td>rais wa tanzania jakaya mrisho kikwete</td>\n",
              "    </tr>\n",
              "    <tr>\n",
              "      <th>1</th>\n",
              "      <td>SWH-05-20101106_16k-emission_swahili_05h30_-_0...</td>\n",
              "      <td>yanayo andaliwa nami pendo pondo idhaa ya kisw...</td>\n",
              "    </tr>\n",
              "    <tr>\n",
              "      <th>2</th>\n",
              "      <td>SWH-05-20101106_16k-emission_swahili_05h30_-_0...</td>\n",
              "      <td>inayokutangazia moja kwa moja kutoka jijini da...</td>\n",
              "    </tr>\n",
              "    <tr>\n",
              "      <th>3</th>\n",
              "      <td>SWH-05-20101106_16k-emission_swahili_05h30_-_0...</td>\n",
              "      <td>juma hili bara la afrika limeshuhudia raia wa ...</td>\n",
              "    </tr>\n",
              "    <tr>\n",
              "      <th>4</th>\n",
              "      <td>SWH-05-20101106_16k-emission_swahili_05h30_-_0...</td>\n",
              "      <td>wakipiga kura ya maoni ilikufanya mabadiliko ya</td>\n",
              "    </tr>\n",
              "  </tbody>\n",
              "</table>\n",
              "</div>"
            ],
            "text/plain": [
              "                                                file                                         transcript\n",
              "0  SWH-05-20101106_16k-emission_swahili_05h30_-_0...             rais wa tanzania jakaya mrisho kikwete\n",
              "1  SWH-05-20101106_16k-emission_swahili_05h30_-_0...  yanayo andaliwa nami pendo pondo idhaa ya kisw...\n",
              "2  SWH-05-20101106_16k-emission_swahili_05h30_-_0...  inayokutangazia moja kwa moja kutoka jijini da...\n",
              "3  SWH-05-20101106_16k-emission_swahili_05h30_-_0...  juma hili bara la afrika limeshuhudia raia wa ...\n",
              "4  SWH-05-20101106_16k-emission_swahili_05h30_-_0...    wakipiga kura ya maoni ilikufanya mabadiliko ya"
            ]
          },
          "metadata": {
            "tags": []
          },
          "execution_count": 19
        }
      ]
    },
    {
      "cell_type": "markdown",
      "metadata": {
        "id": "sCG7lSWpikjz"
      },
      "source": [
        "##**Load audio file**\n"
      ]
    },
    {
      "cell_type": "code",
      "metadata": {
        "id": "bP9ojedwiuHL"
      },
      "source": [
        ""
      ],
      "execution_count": null,
      "outputs": []
    },
    {
      "cell_type": "markdown",
      "metadata": {
        "id": "TJ3udaAotjHQ"
      },
      "source": [
        ""
      ]
    },
    {
      "cell_type": "markdown",
      "metadata": {
        "id": "fE5amNUJivnz"
      },
      "source": [
        "##**Load transcriptions**"
      ]
    },
    {
      "cell_type": "code",
      "metadata": {
        "id": "-nADL4Zvi7mH"
      },
      "source": [
        ""
      ],
      "execution_count": null,
      "outputs": []
    },
    {
      "cell_type": "markdown",
      "metadata": {
        "id": "xDP0Hw7di8Ea"
      },
      "source": [
        "##**Convert into channels** \n",
        "Some of the sound files are mono (ie. 1 audio channel) while most of them are stereo (ie. 2 audio channels). Since the Neural network model expects all items to have the same dimensions, we will convert the mono files to stereo, by duplicating the first channel to the second\n"
      ]
    },
    {
      "cell_type": "code",
      "metadata": {
        "id": "eclp7dxDjVzE"
      },
      "source": [
        ""
      ],
      "execution_count": null,
      "outputs": []
    },
    {
      "cell_type": "markdown",
      "metadata": {
        "id": "B_NjiB1XjXQK"
      },
      "source": [
        "##**Standardize sampling rate**\n",
        "We must standardize and convert all audio to the same sampling rate so that all arrays have the same dimensions."
      ]
    },
    {
      "cell_type": "code",
      "metadata": {
        "id": "mzKKGaWKjpsr"
      },
      "source": [
        ""
      ],
      "execution_count": null,
      "outputs": []
    },
    {
      "cell_type": "markdown",
      "metadata": {
        "id": "LYsGZ7kPjrT3"
      },
      "source": [
        "##**Resize to the same length**\n",
        "Resize to get an equal-sized audio sample by extending duration by padding it with silence, or by truncating it."
      ]
    },
    {
      "cell_type": "code",
      "metadata": {
        "id": "znnWj4IokMRx"
      },
      "source": [
        ""
      ],
      "execution_count": null,
      "outputs": []
    },
    {
      "cell_type": "markdown",
      "metadata": {
        "id": "zCRK-RobkN3i"
      },
      "source": [
        "##**Data argumentation**\n",
        "Perform data augmentation on the raw audio signal by applying a Time Shift to shift the audio to the left or the right by a random amount. "
      ]
    },
    {
      "cell_type": "code",
      "metadata": {
        "id": "VsCJMa7Kkm_I"
      },
      "source": [
        ""
      ],
      "execution_count": null,
      "outputs": []
    },
    {
      "cell_type": "markdown",
      "metadata": {
        "id": "En16rWXzkneV"
      },
      "source": [
        "##**Feature extraction**: \n",
        "Speech recognition methods derive features from the audio, such as Spectrogram or Mel Frequency Cepstrum (MFCC).\n",
        "\n",
        "* Convert the augmented audio to a Mel Spectrogram.\n",
        "\n",
        "\n",
        "\n",
        "\n",
        "\n",
        "\n"
      ]
    },
    {
      "cell_type": "code",
      "metadata": {
        "id": "41z2AiSYleGx"
      },
      "source": [
        ""
      ],
      "execution_count": null,
      "outputs": []
    },
    {
      "cell_type": "markdown",
      "metadata": {
        "id": "hCyl8e_olgLh"
      },
      "source": [
        "**Acoustic modeling:** \n",
        "\n",
        "After features are extracted, these vectors are passed to acoustic models. An acoustic model attempts to map the audio signal to the basic units of speech such as phonemes or graphemes."
      ]
    },
    {
      "cell_type": "code",
      "metadata": {
        "id": "a3kBtRP8lsQA"
      },
      "source": [
        ""
      ],
      "execution_count": null,
      "outputs": []
    },
    {
      "cell_type": "code",
      "metadata": {
        "id": "iJyV7EWznPsb"
      },
      "source": [
        ""
      ],
      "execution_count": null,
      "outputs": []
    }
  ]
}