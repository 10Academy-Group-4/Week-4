{
  "nbformat": 4,
  "nbformat_minor": 0,
  "metadata": {
    "colab": {
      "name": "augmented.ipynb",
      "provenance": [],
      "authorship_tag": "ABX9TyN7GmwiSCoDjp159C4ku1yj",
      "include_colab_link": true
    },
    "kernelspec": {
      "name": "python3",
      "display_name": "Python 3"
    },
    "language_info": {
      "name": "python"
    }
  },
  "cells": [
    {
      "cell_type": "markdown",
      "metadata": {
        "id": "view-in-github",
        "colab_type": "text"
      },
      "source": [
        "<a href=\"https://colab.research.google.com/github/10Academy-Group-4/Week-4/blob/master/augmented.ipynb\" target=\"_parent\"><img src=\"https://colab.research.google.com/assets/colab-badge.svg\" alt=\"Open In Colab\"/></a>"
      ]
    },
    {
      "cell_type": "code",
      "metadata": {
        "colab": {
          "base_uri": "https://localhost:8080/"
        },
        "id": "wj775yYHCdQE",
        "outputId": "0c931694-466e-45e2-9ac1-fc12fc4fabd4"
      },
      "source": [
        "!git clone https://github.com/10Academy-Group-4/Week-4.git"
      ],
      "execution_count": 1,
      "outputs": [
        {
          "output_type": "stream",
          "text": [
            "Cloning into 'Week-4'...\n",
            "remote: Enumerating objects: 15921, done.\u001b[K\n",
            "remote: Counting objects: 100% (1620/1620), done.\u001b[K\n",
            "remote: Compressing objects: 100% (925/925), done.\u001b[K\n",
            "remote: Total 15921 (delta 600), reused 1471 (delta 488), pack-reused 14301\u001b[K\n",
            "Receiving objects: 100% (15921/15921), 1.37 GiB | 33.45 MiB/s, done.\n",
            "Resolving deltas: 100% (2616/2616), done.\n"
          ],
          "name": "stdout"
        }
      ]
    },
    {
      "cell_type": "code",
      "metadata": {
        "id": "KKZ8H2EgCqJn"
      },
      "source": [
        "rm -rf Week-4"
      ],
      "execution_count": 4,
      "outputs": []
    },
    {
      "cell_type": "code",
      "metadata": {
        "id": "UxOA3qzNDFJD"
      },
      "source": [
        "import pandas as pd\n",
        "import traceback\n",
        "import os,sys\n",
        "\n",
        "sys.path.append(os.path.abspath(os.path.join('scripts')))\n",
        "from MetaCreate import MetaCreate\n",
        "from AudioManipulator import AudioManipulator\n",
        "from preprocess_uitls import pad_audio_files, featurize\n",
        "from utils import char_map,index_map, int_sequence_to_text ,text_to_int_sequence\n",
        "\n",
        "\n",
        "import librosa\n",
        "import matplotlib.pyplot as plt\n",
        "# from mpl_toolkits.axes_grid1 import make_axes_locatable\n",
        "\n",
        "    \n",
        "# from keras.utils.vis_utils import plot_model\n",
        "\n",
        "\n",
        "import _pickle as pickle\n",
        "from numpy.lib.stride_tricks import as_strided\n",
        "\n",
        "from Models import cnn_rnn_model,simple_rnn,model_2,bidirectional_rnn_model_gpu,bidirectional_rnn_model\n",
        "# from keras.callbacks import ModelCheckpoint"
      ],
      "execution_count": 3,
      "outputs": []
    },
    {
      "cell_type": "markdown",
      "metadata": {
        "id": "nSzT3lDuDd3I"
      },
      "source": [
        "## Noise Addition"
      ]
    },
    {
      "cell_type": "code",
      "metadata": {
        "id": "imJ0ZVdHDkA0"
      },
      "source": [
        ""
      ],
      "execution_count": null,
      "outputs": []
    }
  ]
}